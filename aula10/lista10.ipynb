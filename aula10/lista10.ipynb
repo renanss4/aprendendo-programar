{
  "nbformat": 4,
  "nbformat_minor": 0,
  "metadata": {
    "colab": {
      "provenance": []
    },
    "kernelspec": {
      "name": "python3",
      "display_name": "Python 3"
    },
    "language_info": {
      "name": "python"
    }
  },
  "cells": [
    {
      "cell_type": "code",
      "execution_count": null,
      "metadata": {
        "id": "lksnec4yeK8B",
        "colab": {
          "base_uri": "https://localhost:8080/"
        },
        "outputId": "82e1cf27-df82-40bf-a54d-74ed4434f966"
      },
      "outputs": [
        {
          "output_type": "stream",
          "name": "stdout",
          "text": [
            "[32, 43, 92, 11, 29, 57, 34, 32, 3, 77]\n"
          ]
        }
      ],
      "source": [
        "# question 1\n",
        "from random import randint\n",
        "\n",
        "def gerar_numeros_aleatorios(quantidade):\n",
        "    numeros_aleatorios = []\n",
        "\n",
        "    for i in range(quantidade):\n",
        "        numero_aleatorio = randint(1, 100)\n",
        "        numeros_aleatorios.append(numero_aleatorio)\n",
        "\n",
        "    return numeros_aleatorios\n",
        "\n",
        "quantidade_desejada = 10\n",
        "numeros_aleatorios = gerar_numeros_aleatorios(quantidade_desejada)\n",
        "print(numeros_aleatorios)\n"
      ]
    },
    {
      "cell_type": "code",
      "source": [
        "# question 2\n",
        "def calcular_modulo(lista):\n",
        "    modulo_lista = []\n",
        "\n",
        "    for numero in lista:\n",
        "        modulo = abs(numero)\n",
        "        modulo_lista.append(modulo)\n",
        "\n",
        "    return modulo_lista\n",
        "\n",
        "lista_original = [-5, 10, -15, 20, -25]\n",
        "lista_modulo = calcular_modulo(lista_original)\n",
        "print(lista_modulo)\n"
      ],
      "metadata": {
        "colab": {
          "base_uri": "https://localhost:8080/"
        },
        "id": "JXOWYIB1hd76",
        "outputId": "6fb2896c-f62a-4ea1-f629-572dd276d0bf"
      },
      "execution_count": null,
      "outputs": [
        {
          "output_type": "stream",
          "name": "stdout",
          "text": [
            "[5, 10, 15, 20, 25]\n"
          ]
        }
      ]
    },
    {
      "cell_type": "code",
      "source": [
        "# question 3\n",
        "def retorna_divisao_pelo_maior(lista_num: list):\n",
        "  num_maior = 0\n",
        "  lista_nova = []\n",
        "\n",
        "  for i in lista_num:\n",
        "    if i > num_maior:\n",
        "      num_maior = i\n",
        "\n",
        "  for i in lista_num:\n",
        "    x = i / num_maior\n",
        "    lista_nova.append(x)\n",
        "\n",
        "  return lista_nova\n",
        "\n",
        "lista = [0, 2, 4, 6, 8, 10, 8, 6, 4, 2, 0]\n",
        "retorna_divisao_pelo_maior(lista)\n",
        "\n",
        "\n",
        "# ele vai iterar na listar -> feito\n",
        "# depois ele vai pegar o maior valor -> feito\n",
        "# por fim vai retornar a divisao de todos os outros indices pelo maior -> feito"
      ],
      "metadata": {
        "id": "fyNWJQGtiCgK",
        "colab": {
          "base_uri": "https://localhost:8080/"
        },
        "outputId": "59f767c6-3271-4705-f6bf-297e7f6705cd"
      },
      "execution_count": null,
      "outputs": [
        {
          "output_type": "execute_result",
          "data": {
            "text/plain": [
              "[0.0, 0.2, 0.4, 0.6, 0.8, 1.0, 0.8, 0.6, 0.4, 0.2, 0.0]"
            ]
          },
          "metadata": {},
          "execution_count": 42
        }
      ]
    },
    {
      "cell_type": "code",
      "source": [
        "# question 4\n",
        "def e_primo(num: int):\n",
        "  contador = 0\n",
        "  indice = 1\n",
        "\n",
        "  while indice <= num:\n",
        "      if num%indice == 0:\n",
        "          contador = contador + 1\n",
        "      indice = indice + 1\n",
        "\n",
        "  if contador == 2:\n",
        "      return True\n",
        "  else:\n",
        "      return False\n",
        "\n",
        "def lista_primos(lista_param: list):\n",
        "  lista_apenas_de_primos = []\n",
        "\n",
        "  for i in lista_param:\n",
        "    if e_primo(i):\n",
        "      lista_apenas_de_primos.append(i)\n",
        "    else:\n",
        "      print(f'O item {i} não é primo')\n",
        "\n",
        "  return lista_apenas_de_primos\n",
        "\n",
        "lista = [0, 1, 2, 3, 5, 6, 29, 19, 32141, 32142]\n",
        "lista_primos(lista)\n",
        "\n",
        "\n",
        "# função que verifica se é primo -> feito\n",
        "# iterar em uma lista e retornar apenas os primos -> FEITO"
      ],
      "metadata": {
        "id": "p6EqwZ3MiCuT",
        "colab": {
          "base_uri": "https://localhost:8080/"
        },
        "outputId": "c56ec011-38ed-4731-837c-a3270020e024"
      },
      "execution_count": null,
      "outputs": [
        {
          "output_type": "stream",
          "name": "stdout",
          "text": [
            "O item 0 não é primo\n",
            "O item 1 não é primo\n",
            "O item 6 não é primo\n",
            "O item 32142 não é primo\n"
          ]
        },
        {
          "output_type": "execute_result",
          "data": {
            "text/plain": [
              "[2, 3, 5, 29, 19, 32141]"
            ]
          },
          "metadata": {},
          "execution_count": 40
        }
      ]
    },
    {
      "cell_type": "code",
      "source": [
        "# question 5\n",
        "\n",
        "\n",
        "# tem usar a função de pegar o proximo numero\n",
        "# mas eu não criei, revisar final de semana"
      ],
      "metadata": {
        "id": "RBYxzLpMiC3F"
      },
      "execution_count": null,
      "outputs": []
    },
    {
      "cell_type": "code",
      "source": [
        "# question 6\n",
        "\n",
        "# receber duas listas\n",
        "# o indice da primeira multiplica pelo indice da segunda\n",
        "# se o tamanho for diferente, adicionar item na de menor tamanho"
      ],
      "metadata": {
        "id": "KuHJ9tJMiDdV"
      },
      "execution_count": null,
      "outputs": []
    },
    {
      "cell_type": "code",
      "source": [
        "# question 7"
      ],
      "metadata": {
        "id": "qHCjdRjbiDnz"
      },
      "execution_count": null,
      "outputs": []
    },
    {
      "cell_type": "code",
      "source": [
        "# question 8\n",
        "def elementos_comuns(lista1, lista2):\n",
        "    elementos_comuns = []\n",
        "    for elemento1 in lista1:\n",
        "        for elemento2 in lista2:\n",
        "            if elemento1 == elemento2:\n",
        "                elementos_comuns.append(elemento1)\n",
        "    return elementos_comuns\n",
        "lista1 = [1, 2, 3, 4, 5]\n",
        "lista2 = [3, 4, 5, 6, 7]\n",
        "lista_resultante = elementos_comuns(lista1, lista2)\n",
        "print(lista_resultante)"
      ],
      "metadata": {
        "colab": {
          "base_uri": "https://localhost:8080/"
        },
        "id": "7xANonECiDwT",
        "outputId": "a3753288-66d1-402a-ef5e-08f799e57aaf"
      },
      "execution_count": null,
      "outputs": [
        {
          "output_type": "stream",
          "name": "stdout",
          "text": [
            "[3, 4, 5]\n"
          ]
        }
      ]
    }
  ]
}