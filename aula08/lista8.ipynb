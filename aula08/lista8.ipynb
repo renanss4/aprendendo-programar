{
  "nbformat": 4,
  "nbformat_minor": 0,
  "metadata": {
    "colab": {
      "provenance": []
    },
    "kernelspec": {
      "name": "python3",
      "display_name": "Python 3"
    },
    "language_info": {
      "name": "python"
    }
  },
  "cells": [
    {
      "cell_type": "code",
      "execution_count": null,
      "metadata": {
        "colab": {
          "base_uri": "https://localhost:8080/"
        },
        "id": "lmwbxy4Lb0JF",
        "outputId": "dad3ccb8-f2fa-4e27-fe8f-3522f961b6db"
      },
      "outputs": [
        {
          "output_type": "execute_result",
          "data": {
            "text/plain": [
              "True"
            ]
          },
          "metadata": {},
          "execution_count": 7
        }
      ],
      "source": [
        "# Question 1\n",
        "def num_intervalo(inicio: int, final: int, num_verificado: int):\n",
        "\n",
        "  if (inicio < num_verificado) and (final > num_verificado):\n",
        "    return True\n",
        "\n",
        "  return False\n",
        "\n",
        "num_intervalo(1.1, 10,5)"
      ]
    },
    {
      "cell_type": "code",
      "source": [
        "# Question 2\n",
        "def verifica_intervalo(inicio, fim, numero, intervalo_aberto=False):\n",
        "    if intervalo_aberto:\n",
        "        return inicio < numero < fim\n",
        "    else:\n",
        "        return inicio <= numero <= fim\n",
        "\n",
        "inicio_intervalo = 10\n",
        "fim_intervalo = 20\n",
        "numero_teste = 15\n",
        "\n",
        "if verifica_intervalo(inicio_intervalo, fim_intervalo, numero_teste):\n",
        "    print(f\"{numero_teste} está dentro do intervalo [{inicio_intervalo}, {fim_intervalo}]\")\n",
        "else:\n",
        "    print(f\"{numero_teste} não está dentro do intervalo [{inicio_intervalo}, {fim_intervalo}]\")\n",
        "\n",
        "if verifica_intervalo(inicio_intervalo, fim_intervalo, numero_teste, intervalo_aberto=True):\n",
        "    print(f\"{numero_teste} está dentro do intervalo aberto ({inicio_intervalo}, {fim_intervalo})\")\n",
        "else:\n",
        "    print(f\"{numero_teste} não está dentro do intervalo aberto ({inicio_intervalo}, {fim_intervalo})\")\n"
      ],
      "metadata": {
        "colab": {
          "base_uri": "https://localhost:8080/"
        },
        "id": "52APvs-CeQow",
        "outputId": "d28c9901-451e-4fdc-f9b3-17734c2649df"
      },
      "execution_count": null,
      "outputs": [
        {
          "output_type": "stream",
          "name": "stdout",
          "text": [
            "15 está dentro do intervalo [10, 20]\n",
            "15 está dentro do intervalo aberto (10, 20)\n"
          ]
        }
      ]
    },
    {
      "cell_type": "code",
      "source": [
        "# Question 3\n",
        "def verifica_intervalo(inicio, fim, numero):\n",
        "    return inicio <= numero <= fim\n",
        "\n",
        "def verifica_nota_prova(nota):\n",
        "    return verifica_intervalo(0, 10, nota)\n",
        "\n",
        "nota = float(input(\"Digite a nota da prova: \"))\n",
        "verifica_nota_prova(nota)\n"
      ],
      "metadata": {
        "colab": {
          "base_uri": "https://localhost:8080/"
        },
        "id": "h7Z5vo6IeSqg",
        "outputId": "87e0d84d-69b3-4c49-ba84-53c84017090d"
      },
      "execution_count": null,
      "outputs": [
        {
          "name": "stdout",
          "output_type": "stream",
          "text": [
            "Digite a nota da prova: 111\n"
          ]
        },
        {
          "output_type": "execute_result",
          "data": {
            "text/plain": [
              "False"
            ]
          },
          "metadata": {},
          "execution_count": 20
        }
      ]
    },
    {
      "cell_type": "code",
      "source": [
        "# Question 4\n",
        "def fatorial(numero):\n",
        "    if numero < 0:\n",
        "        return \"Fatorial não está definido para números negativos\"\n",
        "    elif numero == 0:\n",
        "        return 1\n",
        "    else:\n",
        "        resultado = 1\n",
        "        i = 1\n",
        "        while i <= numero:\n",
        "            resultado *= i\n",
        "            i += 1\n",
        "        return resultado\n",
        "\n",
        "numero = int(input(\"Digite um número inteiro para calcular o fatorial: \"))\n",
        "resultado_fatorial = fatorial(numero)\n",
        "\n",
        "if isinstance(resultado_fatorial, int):\n",
        "    print(f\"O fatorial de {numero} é {resultado_fatorial}\")\n",
        "else:\n",
        "    print(resultado_fatorial)"
      ],
      "metadata": {
        "id": "ZO_YhbmZeYXk"
      },
      "execution_count": null,
      "outputs": []
    },
    {
      "cell_type": "code",
      "source": [
        "# Question 5\n",
        "def fatorial(numero):\n",
        "    if numero < 0:\n",
        "        return \"Fatorial não está definido para números negativos\"\n",
        "    elif numero == 0:\n",
        "        return 1\n",
        "    else:\n",
        "        resultado = 1\n",
        "        i = 1\n",
        "        while i <= numero:\n",
        "            resultado *= i\n",
        "            i += 1\n",
        "        return resultado\n",
        "\n",
        "def calcular_S(N, P):\n",
        "    if N < 0 or P < 0 or N < P:\n",
        "        return \"Valores inválidos para N e P\"\n",
        "    else:\n",
        "        S = fatorial(N) / (fatorial(P) * fatorial(N - P))\n",
        "        return S\n",
        "\n",
        "N = int(input(\"Digite o valor de N: \"))\n",
        "P = int(input(\"Digite o valor de P: \"))\n",
        "\n",
        "resultado_S = calcular_S(N, P)\n",
        "\n",
        "if isinstance(resultado_S, int) or isinstance(resultado_S, float):\n",
        "    print(f\"O valor de S é {resultado_S}\")\n",
        "else:\n",
        "    print(resultado_S)\n"
      ],
      "metadata": {
        "id": "-sbJ5z32e0tA"
      },
      "execution_count": null,
      "outputs": []
    },
    {
      "cell_type": "code",
      "source": [
        "# Question 6\n",
        "def fatorial(numero):\n",
        "    if numero < 0:\n",
        "        return \"Fatorial não está definido para números negativos\"\n",
        "    elif numero == 0:\n",
        "        return 1\n",
        "    else:\n",
        "        resultado = 1\n",
        "        i = 1\n",
        "        while i <= numero:\n",
        "            resultado *= i\n",
        "            i += 1\n",
        "        return resultado\n",
        "\n",
        "# Função para calcular uma aproximação do número \"e\" usando a série infinita\n",
        "def calcular_aproximacao_e(n_termos):\n",
        "    if n_termos <= 0:\n",
        "        return None\n",
        "\n",
        "    aproximacao_e = 0\n",
        "    for i in range(n_termos):\n",
        "        aproximacao_e += 1 / fatorial(i)\n",
        "\n",
        "    return aproximacao_e\n",
        "\n",
        "n_termos = int(input(\"Digite a quantidade de termos desejados para a aproximação de 'e': \"))\n",
        "\n",
        "resultado_aproximacao_e = calcular_aproximacao_e(n_termos)\n",
        "\n",
        "if resultado_aproximacao_e is not None:\n",
        "    print(f\"A aproximação de 'e' com {n_termos} termos é aproximadamente {resultado_aproximacao_e}\")\n",
        "else:\n",
        "    print(\"Quantidade de termos inválida. Deve ser maior que 0.\")\n"
      ],
      "metadata": {
        "id": "y4ZqpFrRtOzi"
      },
      "execution_count": null,
      "outputs": []
    },
    {
      "cell_type": "code",
      "source": [
        "# Question 7\n",
        "def fatorial(numero):\n",
        "    if numero < 0:\n",
        "        return \"Fatorial não está definido para números negativos\"\n",
        "    elif numero == 0:\n",
        "        return 1\n",
        "    else:\n",
        "        resultado = 1\n",
        "        i = 1\n",
        "        while i <= numero:\n",
        "            resultado *= i\n",
        "            i += 1\n",
        "        return resultado\n",
        "\n",
        "# Função para calcular uma aproximação do cosseno usando a série infinita\n",
        "def calcular_aproximacao_cosseno(x, n_termos):\n",
        "    if x <= 0 or x >= 1 or n_termos <= 0:\n",
        "        return None\n",
        "\n",
        "    aproximacao_cosseno = 0\n",
        "    for i in range(n_termos):\n",
        "        termo = ((-1) ** i) * (x ** (2 * i)) / fatorial(2 * i)\n",
        "        aproximacao_cosseno += termo\n",
        "\n",
        "    return aproximacao_cosseno\n",
        "\n",
        "x = float(input(\"Digite o valor de x (entre 0 e 1): \"))\n",
        "n_termos = int(input(\"Digite a quantidade de termos desejados para a aproximação do cosseno: \"))\n",
        "\n",
        "resultado_aproximacao_cosseno = calcular_aproximacao_cosseno(x, n_termos)\n",
        "\n",
        "if resultado_aproximacao_cosseno is not None:\n",
        "    print(f\"A aproximação do cosseno de {x} com {n_termos} termos é aproximadamente {resultado_aproximacao_cosseno}\")\n",
        "else:\n",
        "    print(\"Valores de x ou quantidade de termos inválidos.\")\n"
      ],
      "metadata": {
        "id": "pm_S-vpKtt2N"
      },
      "execution_count": null,
      "outputs": []
    },
    {
      "cell_type": "code",
      "source": [
        "# Question 8\n",
        "def fatorial(numero):\n",
        "    if numero < 0:\n",
        "        return \"Fatorial não está definido para números negativos\"\n",
        "    elif numero == 0:\n",
        "        return 1\n",
        "    else:\n",
        "        resultado = 1\n",
        "        i = 1\n",
        "        while i <= numero:\n",
        "            resultado *= i\n",
        "            i += 1\n",
        "        return resultado\n",
        "\n",
        "# Função para calcular uma aproximação do seno usando a série infinita\n",
        "def calcular_aproximacao_seno(x, n_termos):\n",
        "    if x <= 0 or x >= 1 or n_termos <= 0:\n",
        "        return None\n",
        "\n",
        "    aproximacao_seno = 0\n",
        "    for i in range(n_termos):\n",
        "        termo = ((-1) ** i) * (x ** (2 * i + 1)) / fatorial(2 * i + 1)\n",
        "        aproximacao_seno += termo\n",
        "\n",
        "    return aproximacao_seno\n",
        "\n",
        "x = float(input(\"Digite o valor de x (entre 0 e 1): \"))\n",
        "n_termos = int(input(\"Digite a quantidade de termos desejados para a aproximação do seno: \"))\n",
        "\n",
        "resultado_aproximacao_seno = calcular_aproximacao_seno(x, n_termos)\n",
        "\n",
        "if resultado_aproximacao_seno is not None:\n",
        "    print(f\"A aproximação do seno de {x} com {n_termos} termos é aproximadamente {resultado_aproximacao_seno}\")\n",
        "else:\n",
        "    print(\"Valores de x ou quantidade de termos inválidos.\")\n"
      ],
      "metadata": {
        "id": "7Qbp-5yWtt_T"
      },
      "execution_count": null,
      "outputs": []
    }
  ]
}