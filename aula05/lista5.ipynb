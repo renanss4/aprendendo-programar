{
  "nbformat": 4,
  "nbformat_minor": 0,
  "metadata": {
    "colab": {
      "provenance": []
    },
    "kernelspec": {
      "name": "python3",
      "display_name": "Python 3"
    },
    "language_info": {
      "name": "python"
    }
  },
  "cells": [
    {
      "cell_type": "code",
      "execution_count": null,
      "metadata": {
        "colab": {
          "base_uri": "https://localhost:8080/"
        },
        "id": "2zrAvEUWJx2G",
        "outputId": "d46c8f9e-a8b0-4982-e0c6-59cbc5246663"
      },
      "outputs": [
        {
          "output_type": "stream",
          "name": "stdout",
          "text": [
            "91\n",
            "10\n",
            "50\n",
            "151\n",
            "Triângulo Obtusângulo: possui um ângulo obtuso, maior que 90.\n"
          ]
        }
      ],
      "source": [
        "value1 = int(input())\n",
        "value2 = int(input())\n",
        "value3 = int(input())\n",
        "\n",
        "value_max = value1 + value2 + value3\n",
        "print(value_max)\n",
        "\n",
        "if value_max > 180:\n",
        "  print('erro, a soma total não pode ultrapassar 180')\n",
        "elif value1 < 90 and value2 < 90 and value3 < 90:\n",
        "  print('Triângulo Acutângulo: possui todos os ângulos com medidas menores de 90;')\n",
        "elif value1 == 90 or value2 == 90 or value3 == 90:\n",
        "  print('Triângulo Retângulo: possui um ângulo com medida igual a 90;')\n",
        "elif value1 > 90 or value2 > 90 or value3 > 90:\n",
        "  print('Triângulo Obtusângulo: possui um ângulo obtuso, maior que 90.')"
      ]
    },
    {
      "cell_type": "code",
      "source": [
        "value1 = int(input())\n",
        "value2 = int(input())\n",
        "value3 = int(input())\n",
        "\n",
        "if value1 > value2 and value1 > value3:\n",
        "  print(f'o maior foi: {value1}')\n",
        "elif value2 > value1 and value2 > value3:\n",
        "  print(f'o maior foi: {value2}')\n",
        "else:\n",
        "  print(f'o maior foi: {value3}')"
      ],
      "metadata": {
        "colab": {
          "base_uri": "https://localhost:8080/"
        },
        "id": "nDNLx2w0Q3nB",
        "outputId": "49901325-6b9c-4051-b4ca-2196df92016c"
      },
      "execution_count": null,
      "outputs": [
        {
          "output_type": "stream",
          "name": "stdout",
          "text": [
            "5\n",
            "4\n",
            "8\n",
            "o maior foi: 8\n"
          ]
        }
      ]
    },
    {
      "cell_type": "code",
      "source": [
        "value1 = input('qual seu nível de engajamento -> fã / comentarista / seguidor: ')\n",
        "value2 = int(input('valor da compra: '))\n",
        "value3 = None\n",
        "\n",
        "if value1 == 'fã':\n",
        "  value3 = value2 - (0.12*value2)\n",
        "elif value1 == 'comentarista':\n",
        "  value3 = value2 - (0.08*value2)\n",
        "elif value1 == 'seguidor':\n",
        "  value3 = value2 - (0.05*value2)\n",
        "else:\n",
        "  print('o senhor(a) não tem direito ao desconto')\n",
        "\n",
        "print(value3)"
      ],
      "metadata": {
        "colab": {
          "base_uri": "https://localhost:8080/"
        },
        "id": "bVS6K41wSL2X",
        "outputId": "5b65d62b-6ef2-4d1f-ec9f-e5f0c6cb912a"
      },
      "execution_count": null,
      "outputs": [
        {
          "output_type": "stream",
          "name": "stdout",
          "text": [
            "qual seu nível de engajamentofã\n",
            "valor da compra: 100\n",
            "88.0\n"
          ]
        }
      ]
    },
    {
      "cell_type": "code",
      "source": [
        "unidade_medida = input('Digite qual a unidade de medida, Celsius, Fahrenheit ou Kelvin -> ')\n",
        "valor_temperatura = float(input('Qual o valor da temperatura atual: '))\n",
        "\n",
        "c = None\n",
        "f = None\n",
        "\n",
        "if unidade_medida == 'Celsius':\n",
        "  c = valor_temperatura\n",
        "  f = (valor_temperatura + 32)*1.8\n",
        "elif unidade_medida == 'Fahrenheit':\n",
        "  c = (valor_temperatura - 32)/1.8\n",
        "  f = valor_temperatura\n",
        "elif unidade_medida == 'Kelvin':\n",
        "  c = valor_temperatura - 273\n",
        "  f = (valor_temperatura - 273) * 1.8 + 32\n",
        "\n",
        "print(f'o valor em celsius foi: {c} e o valor em fahrenheit foi {f}')"
      ],
      "metadata": {
        "colab": {
          "base_uri": "https://localhost:8080/"
        },
        "id": "28GQD45PUesY",
        "outputId": "ad66bd48-7f10-41b2-a3af-1f6af2b44718"
      },
      "execution_count": null,
      "outputs": [
        {
          "output_type": "stream",
          "name": "stdout",
          "text": [
            "Digite qual a unidade de medida, Celsius, Fahrenheit ou Kelvin -> Fahrenheit\n",
            "Qual o valor da temperatura atual: 15\n",
            "o valor em celsius foi: -9.444444444444445 e o valor em fahrenheit foi 15.0.2f\n"
          ]
        }
      ]
    },
    {
      "cell_type": "code",
      "source": [
        "value1 = int(input())\n",
        "value2 = int(input())\n",
        "value3 = int(input())\n",
        "\n",
        "tria_isosceles1 = value1 != value2 and value2 != value3 and value3 != value1\n",
        "tria_isosceles2 = value1 != value2 and value2 == value3 and value3 == value1\n",
        "tria_isosceles3 =\n",
        "\n",
        "value_max = value1 + value2 + value3\n",
        "\n",
        "if value1 == value2 and value2 == value3 and value3 == value1:\n",
        "  print('triângulo equilátero, possui três lados iguais')\n",
        "elif tria_isosceles1:\n",
        "  print('triângulo escaleno, não possui lados iguais')\n",
        "elif tria_isosceles2:\n",
        "  print('triângulo isósceles, possui dois lados iguais')\n",
        "elif value1 == value2 and value2 != value3 and value3 == value1:\n",
        "  print('triângulo isósceles, possui dois lados iguais')\n",
        "elif (value1 == value2 and value2 == value3 and value3 != value1):\n",
        "  print('triângulo isósceles, possui dois lados iguais')\n",
        "elif value1 < 0 or value2 < 0 or value3 < 0:\n",
        "  print('Não é possível adicionar um número negativo')\n",
        "elif value_max > 180:\n",
        "  print('erro, a soma total não pode ultrapassar 180')\n",
        "else:\n",
        "  print('erro por alguma coisa')"
      ],
      "metadata": {
        "colab": {
          "base_uri": "https://localhost:8080/"
        },
        "id": "3q1Hm3UtY-Tq",
        "outputId": "fb4f7166-a405-4ad1-ed42-9b18631852c1"
      },
      "execution_count": null,
      "outputs": [
        {
          "output_type": "stream",
          "name": "stdout",
          "text": [
            "51\n",
            "50\n",
            "50\n",
            "erro por alguma coisa\n"
          ]
        }
      ]
    },
    {
      "cell_type": "code",
      "source": [
        "lado1 = float(input(\"Digite o tamanho do primeiro lado do triângulo: \"))\n",
        "lado2 = float(input(\"Digite o tamanho do segundo lado do triângulo: \"))\n",
        "lado3 = float(input(\"Digite o tamanho do terceiro lado do triângulo: \"))\n",
        "\n",
        "if lado1 <= 0 or lado2 <= 0 or lado3 <= 0 or (lado1 >= lado2 + lado3) or (lado2 >= lado1 + lado3) or (lado3 >= lado1 + lado2):\n",
        "    print(\"Os valores inseridos não formam um triângulo válido.\")\n",
        "else:\n",
        "    if lado1 == lado2 == lado3:\n",
        "        print(\"Este é um triângulo equilátero, com todos os lados iguais.\")\n",
        "    elif lado1 == lado2 or lado1 == lado3 or lado2 == lado3:\n",
        "        print(\"Este é um triângulo isósceles, com dois lados iguais.\")\n",
        "    else:\n",
        "        print(\"Este é um triângulo escaleno, sem lados iguais.\")"
      ],
      "metadata": {
        "id": "nSH8T67XZRPZ"
      },
      "execution_count": null,
      "outputs": []
    },
    {
      "cell_type": "code",
      "source": [
        "# Solicita os valores de pressão e temperatura ao usuário\n",
        "pressao = int(input(\"Digite a pressão (em kPa): \"))\n",
        "temperatura = float(input(\"Digite a temperatura (em oC): \"))\n",
        "\n",
        "# Verifica o estado físico com base nas aproximações dadas\n",
        "if pressao == 100:\n",
        "    if temperatura < 0:\n",
        "        estado = \"Sólido\"\n",
        "    elif temperatura == 0:\n",
        "        estado = \"Mistura sólido-líquido\"\n",
        "    elif 0 < temperatura < 100:\n",
        "        estado = \"Líquido\"\n",
        "    elif temperatura == 100:\n",
        "        estado = \"Mistura líquido-vapor\"\n",
        "    else:\n",
        "        estado = \"Gasoso\"\n",
        "elif pressao == 200:\n",
        "    if temperatura == 120:\n",
        "        estado = \"Mistura líquido-vapor\"\n",
        "    elif temperatura > 120:\n",
        "        estado = \"Gasoso\"\n",
        "    else:\n",
        "        estado = \"Valores informados não constam no banco de dados\"\n",
        "elif pressao == 300:\n",
        "    if temperatura == 133.6:\n",
        "        estado = \"Mistura líquido-vapor\"\n",
        "    elif temperatura > 133.6:\n",
        "        estado = \"Gasoso\"\n",
        "    else:\n",
        "        estado = \"Valores informados não constam no banco de dados\"\n",
        "elif pressao == 400:\n",
        "    if temperatura == 143.6:\n",
        "        estado = \"Mistura líquido-vapor\"\n",
        "    elif temperatura > 143.6:\n",
        "        estado = \"Gasoso\"\n",
        "    else:\n",
        "        estado = \"Valores informados não constam no banco de dados\"\n",
        "elif pressao == 500:\n",
        "    if temperatura == 151.9:\n",
        "        estado = \"Mistura líquido-vapor\"\n",
        "    elif temperatura > 151.9:\n",
        "        estado = \"Gasoso\"\n",
        "    else:\n",
        "        estado = \"Valores informados não constam no banco de dados\"\n",
        "else:\n",
        "    estado = \"Valores informados não constam no banco de dados\"\n",
        "\n",
        "# Exibe o estado físico ou a mensagem de erro\n",
        "print(f\"A água está no estado físico: {estado}\")\n"
      ],
      "metadata": {
        "id": "qLbQlggmZTpT"
      },
      "execution_count": null,
      "outputs": []
    }
  ]
}