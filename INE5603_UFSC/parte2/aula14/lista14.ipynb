{
  "nbformat": 4,
  "nbformat_minor": 0,
  "metadata": {
    "colab": {
      "provenance": []
    },
    "kernelspec": {
      "name": "python3",
      "display_name": "Python 3"
    },
    "language_info": {
      "name": "python"
    }
  },
  "cells": [
    {
      "cell_type": "code",
      "execution_count": null,
      "metadata": {
        "id": "4GUaGNPFeF_F"
      },
      "outputs": [],
      "source": [
        "# dicionarios\n",
        "capitais = {'Acre': 'Rio Branco', 'Alagoas': 'Maceió', 'Amapá': 'Macapá', 'Amazonas': 'Manaus', 'Bahia': 'Salvador', 'Ceará': 'Fortaleza', 'Distrito Federal': 'Brasília', 'Espírito Santo': 'Vitória', 'Goiás': 'Goiânia', 'Maranhão': 'São Luís', 'Mato Grosso': 'Cuiabá', 'Mato Grosso do Sul': 'Campo Grande', 'Minas Gerais': 'Belo Horizonte', 'Pará': 'Belém', 'Paraíba': 'João Pessoa', 'Paraná': 'Curitiba', 'Pernambuco': 'Recife', 'Piauí': 'Teresina', 'Rio de Janeiro': 'Rio de Janeiro', 'Rio Grande do Norte': 'Natal', 'Rio Grande do Sul': 'Porto Alegre', 'Rondônia': 'Porto Velho', 'Roraima': 'Boa Vista', 'Santa Catarina': 'Florianópolis', 'São Paulo': 'São Paulo', 'Sergipe': 'Aracaju', 'Tocantins': 'Palmas'}\n",
        "siglas = {'AC': 'Acre', 'AL': 'Alagoas', 'AP': 'Amapá', 'AM': 'Amazonas', 'BA': 'Bahia', 'CE': 'Ceará', 'DF': 'Distrito Federal', 'ES': 'Espírito Santo', 'GO': 'Goiás', 'MA': 'Maranhão', 'MT': 'Mato Grosso', 'MS': 'Mato Grosso do Sul', 'MG': 'Minas Gerais', 'PA': 'Pará', 'PB': 'Paraíba', 'PR': 'Paraná', 'PE': 'Pernambuco', 'PI': 'Piauí', 'RJ': 'Rio de Janeiro', 'RN': 'Rio Grande do Norte', 'RS': 'Rio Grande do Sul', 'RO': 'Rondônia', 'RR': 'Roraima', 'SC': 'Santa Catarina', 'SP': 'São Paulo', 'SE': 'Sergipe', 'TO': 'Tocantins'}\n",
        "regioes = {'Norte': ['AC', 'AP', 'AM', 'PA', 'RO', 'RR', 'TO'], 'Nordeste': ['AL', 'BA', 'CE', 'MA', 'PB', 'PE', 'PI', 'RN', 'SE'], 'Centro-Oeste': ['DF', 'GO', 'MT', 'MS'], 'Sudeste': ['ES', 'MG', 'RJ', 'SP'], 'Sul': ['PR', 'RS', 'SC']}\n",
        "populacoes = {'Acre': '0.8035', 'Alagoas': '3.3', 'Amapá': '0.7766', 'Amazonas': '3.9', 'Bahia': '15.2', 'Ceará': '8.4', 'Distrito Federal': '2.9', 'Espírito Santo': '3.5', 'Goiás': '6.6', 'Maranhão': '6.9', 'Mato Grosso': '3.2', 'Mato Grosso do Sul': '2.6', 'Minas Gerais': '19.5', 'Pará': '8.1', 'Paraíba': '3.9', 'Paraná': '11.1', 'Pernambuco': '9.3', 'Piauí': '3.2', 'Rio de Janeiro': '16.5', 'Rio Grande do Norte': '3.4', 'Rio Grande do Sul': '11.2', 'Rondônia': '1.7', 'Roraima': '0.5056', 'Santa Catarina': '6.8', 'São Paulo': '44.3', 'Sergipe': '2.3', 'Tocantins': '1.5'}"
      ]
    },
    {
      "cell_type": "code",
      "source": [
        "# question 1\n",
        "def retorna_capital(estado):\n",
        "  if estado in capitais:\n",
        "    return capitais[estado]\n",
        "  else:\n",
        "    return 'indisponível'\n",
        "\n",
        "retorna_capital('Amapá')\n",
        "\n",
        "def retorna_capital2(estado):\n",
        "  capital = capitais.get(estado, 'indisponível')\n",
        "  return capital\n",
        "\n",
        "retorna_capital2('Alagoas')\n",
        "\n",
        "def retorna_capital_melhorada(*estados):\n",
        "    result = {}\n",
        "    for estado in estados:\n",
        "        if estado in capitais:\n",
        "            result[estado] = capitais[estado]\n",
        "        else:\n",
        "            result[estado] = 'indisponível'\n",
        "    return result\n",
        "retorna_capital_melhorada('Amapá', 'São Paulo', 'Texas')\n",
        "\n",
        "def retorna_capital2_melhorada(*estados):\n",
        "    result = {}\n",
        "    for estado in estados:\n",
        "        capital = capitais.get(estado, 'indisponível')\n",
        "        result[estado] = capital\n",
        "    return result\n",
        "\n",
        "retorna_capital2_melhorada('Alagoas', 'Rio de Janeiro', 'Bahia', 'Santa Catarina')\n",
        "\n"
      ],
      "metadata": {
        "colab": {
          "base_uri": "https://localhost:8080/"
        },
        "id": "Sj6W2EsWf1EL",
        "outputId": "c2270abc-a99d-4158-db6a-f76d60b75a13"
      },
      "execution_count": null,
      "outputs": [
        {
          "output_type": "execute_result",
          "data": {
            "text/plain": [
              "{'Alagoas': 'Maceió',\n",
              " 'Rio de Janeiro': 'Rio de Janeiro',\n",
              " 'Bahia': 'Salvador',\n",
              " 'Santa Catarina': 'Florianópolis'}"
            ]
          },
          "metadata": {},
          "execution_count": 23
        }
      ]
    },
    {
      "cell_type": "code",
      "source": [
        "# question 2\n",
        "def exibir_estado():\n",
        "  for estado, sigla in siglas.items():\n",
        "    print(f'Estado: {estado} ({sigla})')\n",
        "\n",
        "exibir_estado()"
      ],
      "metadata": {
        "colab": {
          "base_uri": "https://localhost:8080/"
        },
        "id": "XBkMqzirnHGh",
        "outputId": "8d470464-8197-4657-e7fc-cefc1b116fb1"
      },
      "execution_count": null,
      "outputs": [
        {
          "output_type": "stream",
          "name": "stdout",
          "text": [
            "Estado: AC (Acre)\n",
            "Estado: AL (Alagoas)\n",
            "Estado: AP (Amapá)\n",
            "Estado: AM (Amazonas)\n",
            "Estado: BA (Bahia)\n",
            "Estado: CE (Ceará)\n",
            "Estado: DF (Distrito Federal)\n",
            "Estado: ES (Espírito Santo)\n",
            "Estado: GO (Goiás)\n",
            "Estado: MA (Maranhão)\n",
            "Estado: MT (Mato Grosso)\n",
            "Estado: MS (Mato Grosso do Sul)\n",
            "Estado: MG (Minas Gerais)\n",
            "Estado: PA (Pará)\n",
            "Estado: PB (Paraíba)\n",
            "Estado: PR (Paraná)\n",
            "Estado: PE (Pernambuco)\n",
            "Estado: PI (Piauí)\n",
            "Estado: RJ (Rio de Janeiro)\n",
            "Estado: RN (Rio Grande do Norte)\n",
            "Estado: RS (Rio Grande do Sul)\n",
            "Estado: RO (Rondônia)\n",
            "Estado: RR (Roraima)\n",
            "Estado: SC (Santa Catarina)\n",
            "Estado: SP (São Paulo)\n",
            "Estado: SE (Sergipe)\n",
            "Estado: TO (Tocantins)\n"
          ]
        }
      ]
    },
    {
      "cell_type": "code",
      "source": [
        "# question 3\n",
        "def estados_da_regiao(regiao):\n",
        "  if regiao in regioes:\n",
        "    # dentro do paramento de regioes vem a chave?\n",
        "    # como é um dicionario que o valor é uma lista retorna uma lista\n",
        "    estados_da_regiao = regioes[regiao]\n",
        "    #se é uma lista posso usar laço, assim com tuplas\n",
        "    for estado in estados_da_regiao:\n",
        "      # mesmo conceito, estou pegando o valor a partir da chave que é a sigla\n",
        "      print(f'Estado: {estado} ({siglas[estado]})')\n",
        "  else:\n",
        "    print('Região não encontrada')\n",
        "    return None\n",
        "\n",
        "\n",
        "\n",
        "estados_da_regiao('Sul')"
      ],
      "metadata": {
        "colab": {
          "base_uri": "https://localhost:8080/"
        },
        "id": "I5-KGJsfpiQN",
        "outputId": "10ff62f4-086d-418c-c26d-ea3ccee38ce3"
      },
      "execution_count": null,
      "outputs": [
        {
          "output_type": "stream",
          "name": "stdout",
          "text": [
            "Sul\n",
            "Estado: PR (Paraná)\n",
            "Estado: RS (Rio Grande do Sul)\n",
            "Estado: SC (Santa Catarina)\n"
          ]
        }
      ]
    },
    {
      "cell_type": "code",
      "source": [
        "# question 4\n",
        "def capitais_da_regiao(regiao):\n",
        "  if regiao in regioes:\n",
        "    siglas_estados_da_regiao = regioes[regiao]\n",
        "    capitais_da_regiao = []\n",
        "    for sigla in siglas_estados_da_regiao:\n",
        "      estado_da_regiao = siglas[sigla]\n",
        "      capitais_da_regiao.append(capitais[estado_da_regiao])\n",
        "    return capitais_da_regiao\n",
        "  else:\n",
        "    return None\n",
        "\n",
        "\n",
        "capitais_da_regiao('Nordeste')"
      ],
      "metadata": {
        "colab": {
          "base_uri": "https://localhost:8080/"
        },
        "id": "h94oajNvuZ5C",
        "outputId": "3edaf184-9a02-41e1-912c-b8201ec1163e"
      },
      "execution_count": null,
      "outputs": [
        {
          "output_type": "execute_result",
          "data": {
            "text/plain": [
              "['Maceió',\n",
              " 'Salvador',\n",
              " 'Fortaleza',\n",
              " 'São Luís',\n",
              " 'João Pessoa',\n",
              " 'Recife',\n",
              " 'Teresina',\n",
              " 'Natal',\n",
              " 'Aracaju']"
            ]
          },
          "metadata": {},
          "execution_count": 24
        }
      ]
    },
    {
      "cell_type": "code",
      "source": [
        "# question 5\n",
        "\"\"\"\n",
        "estados = {\n",
        "  estado: ['sigla', capital]\n",
        "}\n",
        "\n",
        "1- Criar uma lista com sigla e capital\n",
        "2- Ver como adiciona uma chave para este determinado resultado (1)\n",
        "3- Retornar um dicionário\n",
        "\"\"\"\n",
        "def retorna_dicionario_com_estados(estado):\n",
        "  estados = {}\n",
        "  valor = []\n",
        "\n",
        "  if estado in siglas:\n",
        "    print(capitais[estado])\n",
        "\n",
        "retorna_dicionario_com_estados('Bahia')"
      ],
      "metadata": {
        "id": "h8gWiYDl-Mm-"
      },
      "execution_count": null,
      "outputs": []
    }
  ]
}