{
  "nbformat": 4,
  "nbformat_minor": 0,
  "metadata": {
    "colab": {
      "provenance": []
    },
    "kernelspec": {
      "name": "python3",
      "display_name": "Python 3"
    },
    "language_info": {
      "name": "python"
    }
  },
  "cells": [
    {
      "cell_type": "code",
      "execution_count": null,
      "metadata": {
        "colab": {
          "base_uri": "https://localhost:8080/"
        },
        "id": "DHjFm9VPvh6y",
        "outputId": "37f45721-b8c0-4cf3-abaf-6ee0a8116e6a"
      },
      "outputs": [
        {
          "name": "stdout",
          "output_type": "stream",
          "text": [
            "digite seus valores -> 3\n",
            "digite seus valores -> 14\n",
            "digite seus valores -> 2\n",
            "digite seus valores -> 5\n",
            "digite seus valores -> 6\n"
          ]
        },
        {
          "output_type": "execute_result",
          "data": {
            "text/plain": [
              "14"
            ]
          },
          "metadata": {},
          "execution_count": 3
        }
      ],
      "source": [
        "# question 1\n",
        "def encontrar_maior_numero(lista: list):\n",
        "  maior_num = lista[0]\n",
        "  cont_indice = 1\n",
        "\n",
        "  while cont_indice < len(lista):\n",
        "    if lista[cont_indice] > maior_num:\n",
        "      maior_num = lista[cont_indice]\n",
        "    cont_indice += 1\n",
        "\n",
        "  return maior_num\n",
        "\n",
        "lista_num = []\n",
        "for i in range(5):\n",
        "  num = int(input('digite seus valores -> '))\n",
        "  lista_num.append(num)\n",
        "\n",
        "encontrar_maior_numero(lista_num)"
      ]
    },
    {
      "cell_type": "code",
      "source": [
        "# question 2\n",
        "def is_prime(numero):\n",
        "    if numero <= 1:\n",
        "        return False\n",
        "    for i in range(2, numero):\n",
        "        if numero % i == 0:\n",
        "            return False\n",
        "    return True\n",
        "\n",
        "lista_de_numeros = [2, 3, 5, 8, 11, 15, 17, 19]\n",
        "\n",
        "contador_primos = sum(1 for numero in lista_de_numeros if is_prime(numero))\n",
        "\n",
        "print(f\"A lista possui {contador_primos} números primos.\")\n"
      ],
      "metadata": {
        "id": "scEdk7E1vslG",
        "colab": {
          "base_uri": "https://localhost:8080/"
        },
        "outputId": "df64433f-fbd9-4dfa-d562-d8e7d315e86d"
      },
      "execution_count": null,
      "outputs": [
        {
          "output_type": "stream",
          "name": "stdout",
          "text": [
            "A lista possui 6 números primos.\n"
          ]
        }
      ]
    },
    {
      "cell_type": "code",
      "source": [
        "# question 3\n",
        "def reverse_lista(lista):\n",
        "    indice = len(lista) - 1\n",
        "    while indice >= 0:\n",
        "        print(lista[indice])\n",
        "        indice -= 1\n",
        "\n",
        "minha_lista = [1, 'abc', 3.14, True, 'Hello']\n",
        "reverse_lista(minha_lista)\n"
      ],
      "metadata": {
        "colab": {
          "base_uri": "https://localhost:8080/"
        },
        "id": "D2qcb_jb0KGG",
        "outputId": "d906a1cb-031e-438b-8c78-7dc68683dee5"
      },
      "execution_count": null,
      "outputs": [
        {
          "output_type": "stream",
          "name": "stdout",
          "text": [
            "Hello\n",
            "True\n",
            "3.14\n",
            "abc\n",
            "1\n"
          ]
        }
      ]
    },
    {
      "cell_type": "code",
      "source": [
        "def somatorio_numeros_pares(lista):\n",
        "    soma = 0\n",
        "    for numero in lista:\n",
        "        if numero % 2 == 0:\n",
        "            soma += numero\n",
        "    return soma\n",
        "\n",
        "# Exemplo de uso:\n",
        "lista_de_numeros = [1, 2, 3, 4, 5, 6, 7, 8, 9, 10]\n",
        "resultado = somatorio_numeros_pares(lista_de_numeros)\n",
        "print(f\"O somatório dos números pares na lista é: {resultado}\")\n"
      ],
      "metadata": {
        "id": "IAbclVOA6yqY"
      },
      "execution_count": null,
      "outputs": []
    },
    {
      "cell_type": "code",
      "source": [
        "# question 5\n",
        "def encontra(lista, num):\n",
        "  for n in lista:\n",
        "    if num in lista:\n",
        "      return True\n",
        "  return False\n",
        "lista_de_numeros = [1, 2, 3, 4, 5, 6, 7, 8, 9, 10]\n",
        "encontra(lista_de_numeros, 0)"
      ],
      "metadata": {
        "colab": {
          "base_uri": "https://localhost:8080/"
        },
        "id": "Ewod59qo63TS",
        "outputId": "c3b8d3a5-63cb-4180-9d01-e04e03ecbcd5"
      },
      "execution_count": null,
      "outputs": [
        {
          "output_type": "execute_result",
          "data": {
            "text/plain": [
              "False"
            ]
          },
          "metadata": {},
          "execution_count": 25
        }
      ]
    },
    {
      "cell_type": "code",
      "source": [
        "# question 6\n",
        "def maior_soma(lista1, lista2):\n",
        "  if sum(lista1) > sum(lista2):\n",
        "    return True\n",
        "  else:\n",
        "    return False\n",
        "lista_de_numeros1 = [1, 2, 3, 4, 5, 6, 7, 8, 9, 2, 10]\n",
        "lista_de_numeros2 = [1, 2, 3, 4, 5, 6, 7, 8, 10, 10]\n",
        "maior_soma(lista_de_numeros1, lista_de_numeros2)"
      ],
      "metadata": {
        "colab": {
          "base_uri": "https://localhost:8080/"
        },
        "id": "MJBkB85F7rCJ",
        "outputId": "47b52664-0833-43cc-b783-1c39fbda1c42"
      },
      "execution_count": null,
      "outputs": [
        {
          "output_type": "execute_result",
          "data": {
            "text/plain": [
              "True"
            ]
          },
          "metadata": {},
          "execution_count": 30
        }
      ]
    },
    {
      "cell_type": "code",
      "source": [
        "# question 7\n",
        "from math import factorial\n",
        "\n",
        "lista_de_numeros = [1, 2, 3, 4, 5, 6, 7, 8, 9, 10]\n",
        "\n",
        "def fatorial_number(lista):\n",
        "  for i in lista:\n",
        "    print(factorial(i))\n",
        "\n",
        "fatorial_number(lista_de_numeros)"
      ],
      "metadata": {
        "colab": {
          "base_uri": "https://localhost:8080/"
        },
        "id": "blUFbFSo9SsO",
        "outputId": "51c8dc5d-fb6e-4f64-e9e3-29826d18b005"
      },
      "execution_count": null,
      "outputs": [
        {
          "output_type": "stream",
          "name": "stdout",
          "text": [
            "1 + 2 + 6 + 24 + 120 + 720 + 5040 + 40320 + 362880 + 3628800 + "
          ]
        }
      ]
    },
    {
      "cell_type": "code",
      "source": [
        "# question 8\n",
        "from statistics import mode, mean\n",
        "\n",
        "def calcular_media_e_moda(notas):\n",
        "    for nota in notas:\n",
        "        if nota < 0 or nota > 10:\n",
        "            print(\"Alguma nota está fora do intervalo válido (0 a 10).\")\n",
        "            return\n",
        "\n",
        "    media = mean(notas)\n",
        "    moda = mode(notas)\n",
        "\n",
        "    return [media, moda]\n",
        "\n",
        "notas = [7.5, 8.0, 7.5, 9.0, 8.0]\n",
        "resultado = calcular_media_e_moda(notas)\n",
        "\n",
        "if resultado is not None:\n",
        "    media, moda = resultado\n",
        "    print(f\"Média das notas: {media}\")\n",
        "    print(f\"Moda das notas: {moda}\")\n"
      ],
      "metadata": {
        "colab": {
          "base_uri": "https://localhost:8080/"
        },
        "id": "xjvlI-O5_VqP",
        "outputId": "d50f935e-47cd-41cf-d33f-bd9e28292944"
      },
      "execution_count": null,
      "outputs": [
        {
          "output_type": "stream",
          "name": "stdout",
          "text": [
            "Média das notas: 8.0\n",
            "Moda das notas: 7.5\n"
          ]
        }
      ]
    },
    {
      "cell_type": "code",
      "source": [
        "# question 9\n",
        "cont = 10\n",
        "respostas = []\n",
        "while cont > 0:\n",
        "    respostas.append(input('respostas: ').upper())\n",
        "    cont -= 1\n",
        "gabarito = ['A', 'A', 'C', 'E', 'D', 'B', 'C', 'E', 'B', 'D']\n",
        "\n",
        "def gabaritei(lista):\n",
        "  total = 0\n",
        "  # pega o tamanho e utiliza como range o valor deste tamanho\n",
        "  for i in range(len(lista)):\n",
        "    if lista[i] == gabarito[i]:\n",
        "      total += 1\n",
        "\n",
        "  return total\n",
        "\n",
        "print(respostas)\n",
        "print(gabarito)\n",
        "gabaritei('total de acertos -> ', respostas)"
      ],
      "metadata": {
        "colab": {
          "base_uri": "https://localhost:8080/"
        },
        "id": "D1mioaDVD3Oc",
        "outputId": "f6f5b57c-5294-42da-f5f2-c4840306f37c"
      },
      "execution_count": null,
      "outputs": [
        {
          "output_type": "stream",
          "name": "stdout",
          "text": [
            "respostas: a\n",
            "respostas: a\n",
            "respostas: c\n",
            "respostas: a\n",
            "respostas: d\n",
            "respostas: a\n",
            "respostas: c\n",
            "respostas: e\n",
            "respostas: a\n",
            "respostas: a\n",
            "['A', 'A', 'C', 'A', 'D', 'A', 'C', 'E', 'A', 'A']\n",
            "['A', 'A', 'C', 'E', 'D', 'B', 'C', 'E', 'B', 'D']\n"
          ]
        },
        {
          "output_type": "execute_result",
          "data": {
            "text/plain": [
              "6"
            ]
          },
          "metadata": {},
          "execution_count": 53
        }
      ]
    },
    {
      "cell_type": "code",
      "source": [
        "# question 10\n",
        "def e_palindromo(texto):\n",
        "    texto = texto.replace(\" \", \"\").lower()\n",
        "    return texto == texto[::-1]\n",
        "\n",
        "texto = \"reger\"\n",
        "resultado = e_palindromo(texto)\n",
        "\n",
        "if resultado:\n",
        "    print(f\"{texto} é um palíndromo.\")\n",
        "else:\n",
        "    print(f\"{texto} não é um palíndromo.\")\n"
      ],
      "metadata": {
        "id": "03uGIZoKKSAl"
      },
      "execution_count": null,
      "outputs": []
    },
    {
      "cell_type": "code",
      "source": [
        "# question 11\n",
        "def contar_caracteres(texto):\n",
        "    vogais = 0\n",
        "    consoantes = 0\n",
        "    numeros = 0\n",
        "    texto = texto.lower()\n",
        "\n",
        "    # Itera por cada caractere no texto\n",
        "    for char in texto:\n",
        "        if char in 'aeiou':\n",
        "            vogais += 1\n",
        "        elif 'a' <= char <= 'z':\n",
        "            consoantes += 1\n",
        "        elif '0' <= char <= '9':\n",
        "            numeros += 1\n",
        "\n",
        "    return [vogais, consoantes, numeros]\n",
        "\n",
        "texto = \"Olá, 123 mundo!\"\n",
        "resultado = contar_caracteres(texto)\n",
        "print(f\"Quantidade de vogais: {resultado[0]}\")\n",
        "print(f\"Quantidade de consoantes: {resultado[1]}\")\n",
        "print(f\"Quantidade de números: {resultado[2]}\")\n"
      ],
      "metadata": {
        "id": "924ypS75KT09"
      },
      "execution_count": null,
      "outputs": []
    }
  ]
}