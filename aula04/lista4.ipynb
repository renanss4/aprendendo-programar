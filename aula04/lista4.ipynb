{
 "cells": [
  {
   "cell_type": "code",
   "execution_count": 2,
   "metadata": {
    "colab": {
     "base_uri": "https://localhost:8080/"
    },
    "id": "mmlGXFRjUNJY",
    "outputId": "2d593f1f-baa3-4e9a-cf2f-4b89d10194d9"
   },
   "outputs": [
    {
     "name": "stdout",
     "output_type": "stream",
     "text": [
      "A hipotenusa dos catetos 1, 1 é 1.41\n"
     ]
    }
   ],
   "source": [
    "# Question 1\n",
    "def hipo():\n",
    "  cat1 = (int(input('Digite um número: ')))\n",
    "  cat2 = (int(input('Digite outro número: ')))\n",
    "  hip = 0\n",
    "\n",
    "  if cat1 < 0 or cat2 < 0:\n",
    "    print('Não é possível utilizar números negativos, tente novamente')\n",
    "  else:\n",
    "    hip = (cat1**2 + cat2**2)**(1/2)\n",
    "    print(f'A hipotenusa dos catetos {cat1}, {cat2} é {hip:.2f}')\n"
   ]
  },
  {
   "cell_type": "code",
   "execution_count": null,
   "metadata": {
    "colab": {
     "base_uri": "https://localhost:8080/"
    },
    "id": "Rk62CalDUkZP",
    "outputId": "d5e2a2d3-17b6-4f2f-ba6e-b64a01211b40"
   },
   "outputs": [
    {
     "name": "stdout",
     "output_type": "stream",
     "text": [
      "Digite um número: 10\n",
      "Digite outro número: 5\n",
      "O maior número digitado foi: 10\n"
     ]
    }
   ],
   "source": [
    "# Question 2\n",
    "num1 = int(input('Digite um número: '))\n",
    "num2 = int(input('Digite outro número: '))\n",
    "\n",
    "if num1 > num2:\n",
    "  print(f'O maior número digitado foi: {num1}')\n",
    "else:\n",
    "  print(f'O maior número digitado foi: {num2}')\n"
   ]
  },
  {
   "cell_type": "code",
   "execution_count": null,
   "metadata": {
    "colab": {
     "base_uri": "https://localhost:8080/"
    },
    "id": "mtaCNgoGcHpb",
    "outputId": "88073cd3-342b-4e05-8ad1-8e8f1781437d"
   },
   "outputs": [
    {
     "name": "stdout",
     "output_type": "stream",
     "text": [
      "Digite um número entre 0 e 1: 0.5\n",
      "O número foi 0.5\n"
     ]
    }
   ],
   "source": [
    "# Question 3\n",
    "num = float(input('Digite um número entre 0 e 1: '))\n",
    "\n",
    "if num > 0 and num < 1:\n",
    "  print(f'O número foi {num}')\n",
    "else:\n",
    "  print(f'O número não está entre 0 ou 1')"
   ]
  },
  {
   "cell_type": "code",
   "execution_count": null,
   "metadata": {
    "colab": {
     "base_uri": "https://localhost:8080/"
    },
    "id": "mkiNiWZJePat",
    "outputId": "cf43f11d-c65a-48d8-c813-05e0655dba8c"
   },
   "outputs": [
    {
     "name": "stdout",
     "output_type": "stream",
     "text": [
      "Digite uma vogal: a\n",
      "A vogal digitada foi A\n"
     ]
    }
   ],
   "source": [
    "# Question 4\n",
    "vogal = input('Digite uma vogal: ').upper()\n",
    "\n",
    "if vogal == 'A' or vogal == 'E' or vogal == 'I' or vogal == 'O' or vogal == 'U':\n",
    "  print(f'A vogal digitada foi {vogal}')\n",
    "else:\n",
    "  print('Digite uma vogal')"
   ]
  },
  {
   "cell_type": "code",
   "execution_count": null,
   "metadata": {
    "colab": {
     "base_uri": "https://localhost:8080/"
    },
    "id": "w1YXmfeTeRC0",
    "outputId": "11d2c131-f5a7-41cb-f449-8501b31f9ef4"
   },
   "outputs": [
    {
     "name": "stdout",
     "output_type": "stream",
     "text": [
      "Digite um número: 5\n",
      "Digite outro número: 5\n",
      "O número 5 é múltiplo de 5\n"
     ]
    }
   ],
   "source": [
    "# Question 5\n",
    "num1 = int(input('Digite um número: '))\n",
    "num2 = int(input('Digite outro número: '))\n",
    "\n",
    "if num2 % num1 == 0:\n",
    "  print(f'O número {num1} é múltiplo de {num2}')\n",
    "else:\n",
    "  print(f'O número {num1} não é múltiplo de {num2}')"
   ]
  },
  {
   "cell_type": "code",
   "execution_count": null,
   "metadata": {
    "colab": {
     "base_uri": "https://localhost:8080/"
    },
    "id": "BYg5bHbieRPA",
    "outputId": "d985865a-2696-448d-c623-7782aff78af5"
   },
   "outputs": [
    {
     "name": "stdout",
     "output_type": "stream",
     "text": [
      "Digite qual o valor da compra: 10\n",
      "O valor da compra no final com o desconto foi: 9.5\n"
     ]
    }
   ],
   "source": [
    "# Question 6\n",
    "valor_compra = float(input('Digite qual o valor da compra: '))\n",
    "\n",
    "if valor_compra >= 6999.00:\n",
    "  valor_compra = valor_compra - (0.15*valor_compra)\n",
    "else:\n",
    "  valor_compra = valor_compra - (0.05*valor_compra)\n",
    "print(f'O valor da compra no final com o desconto foi: {valor_compra}')"
   ]
  },
  {
   "cell_type": "code",
   "execution_count": null,
   "metadata": {
    "colab": {
     "base_uri": "https://localhost:8080/"
    },
    "id": "La6gvodGeR-u",
    "outputId": "6d4f5481-9add-44da-e9e6-166ac880a9bf"
   },
   "outputs": [
    {
     "name": "stdout",
     "output_type": "stream",
     "text": [
      "Digite um número: 5\n",
      "Digite outro número: 4\n",
      "O maior número digitado foi: 5\n"
     ]
    }
   ],
   "source": [
    "# Question 7\n",
    "num1 = int(input('Digite um número: '))\n",
    "num2 = int(input('Digite outro número: '))\n",
    "\n",
    "if num1 != num2:\n",
    "  if num1 > num2:\n",
    "    print(f'O maior número digitado foi: {num1}')\n",
    "  else:\n",
    "    print(f'O maior número digitado foi: {num2}')\n",
    "else:\n",
    "  print(f'Os valores são iguais, tente adicionar números diferentes: {num1} e {num2}')\n"
   ]
  },
  {
   "cell_type": "code",
   "execution_count": null,
   "metadata": {
    "colab": {
     "base_uri": "https://localhost:8080/"
    },
    "id": "xfT-Ns0cKHmJ",
    "outputId": "7b9c8aa6-6f14-4fd7-dc35-34853904f891"
   },
   "outputs": [
    {
     "name": "stdout",
     "output_type": "stream",
     "text": [
      "Quanto deseja sacar da sua conta? 5\n",
      "Você sacou 5 e o seu saldo é: 95\n"
     ]
    }
   ],
   "source": [
    "# Question 8\n",
    "valor_saque = int(input(\"Digite o valor do saque desejado: \"))\n",
    "c50 = valor_saque // 50\n",
    "resto50 = valor_saque % 50\n",
    "c10 = resto50 // 10\n",
    "resto10 = resto50 % 10\n",
    "c5 = resto10 // 5\n",
    "resto5 = resto10 % 5\n",
    "\n",
    "if resto5 == 0:\n",
    "    print(f\"Quantidade de cédulas de R$50: {c50}\")\n",
    "    print(f\"Quantidade de cédulas de R$10: {c10}\")\n",
    "    print(f\"Quantidade de cédulas de R$5: {c5}\")\n",
    "else:\n",
    "    print(\"Valor indisponível, dirija-se a outro caixa.\")"
   ]
  },
  {
   "cell_type": "code",
   "execution_count": null,
   "metadata": {
    "colab": {
     "base_uri": "https://localhost:8080/"
    },
    "id": "VMmsUyKAPhwS",
    "outputId": "01012730-ddd2-4db0-f54e-33444dc9b700"
   },
   "outputs": [
    {
     "name": "stdout",
     "output_type": "stream",
     "text": [
      "Digite um lado do triângulo5\n",
      "Digite um lado do triângulo5\n",
      "Digite um lado do triângulo5\n"
     ]
    }
   ],
   "source": [
    "# Question 9\n",
    "lado1 = float(input(\"Digite a medida do primeiro lado do triângulo: \"))\n",
    "lado2 = float(input(\"Digite a medida do segundo lado do triângulo: \"))\n",
    "lado3 = float(input(\"Digite a medida do terceiro lado do triângulo: \"))\n",
    "\n",
    "if lado1 < 0 or lado2 < 0 or lado3 < 0:\n",
    "    print(\"Você inseriu um valor negativo. Por favor, insira apenas valores positivos.\")\n",
    "else:\n",
    "    if (lado1 < lado2 + lado3) and (lado2 < lado1 + lado3) and (lado3 < lado1 + lado2):\n",
    "        print(\"As medidas inseridas formam um triângulo.\")\n",
    "    else:\n",
    "        print(\"As medidas inseridas não formam um triângulo.\")"
   ]
  },
  {
   "cell_type": "code",
   "execution_count": null,
   "metadata": {
    "colab": {
     "base_uri": "https://localhost:8080/"
    },
    "id": "G6deT3OsViUs",
    "outputId": "228659de-697f-400d-d864-9021675cc7ae"
   },
   "outputs": [
    {
     "name": "stdout",
     "output_type": "stream",
     "text": [
      "altura: 1.80\n",
      "idade: 22\n",
      "horas de voo: 1601\n",
      "peso: 85\n",
      "O aviador está apto para voar\n"
     ]
    }
   ],
   "source": [
    "# Question 10\n",
    "\n",
    "altura = float(input('altura: '))\n",
    "idade = int(input('idade: '))\n",
    "hrs_voo = int(input('horas de voo: '))\n",
    "peso = float(input('peso: '))\n",
    "\n",
    "apto_1 = (altura >= 1.75) and (idade >= 22 or idade <= 40)\n",
    "apto_2 = (hrs_voo > 1600) and (peso >= 65 or peso <= 95)\n",
    "\n",
    "if apto_1 and apto_2:\n",
    "  print(f'O aviador está apto para voar')\n",
    "else:\n",
    "  print(f'O aviador não está apto para voar')"
   ]
  }
 ],
 "metadata": {
  "colab": {
   "provenance": []
  },
  "kernelspec": {
   "display_name": "Python 3 (ipykernel)",
   "language": "python",
   "name": "python3"
  },
  "language_info": {
   "codemirror_mode": {
    "name": "ipython",
    "version": 3
   },
   "file_extension": ".py",
   "mimetype": "text/x-python",
   "name": "python",
   "nbconvert_exporter": "python",
   "pygments_lexer": "ipython3",
   "version": "3.10.12"
  }
 },
 "nbformat": 4,
 "nbformat_minor": 4
}
