{
  "nbformat": 4,
  "nbformat_minor": 0,
  "metadata": {
    "colab": {
      "provenance": []
    },
    "kernelspec": {
      "name": "python3",
      "display_name": "Python 3"
    },
    "language_info": {
      "name": "python"
    }
  },
  "cells": [
    {
      "cell_type": "code",
      "execution_count": null,
      "metadata": {
        "colab": {
          "base_uri": "https://localhost:8080/"
        },
        "id": "lk4vwFOfwJqk",
        "outputId": "3db88ec5-9379-49c0-f94f-8b533531871b"
      },
      "outputs": [
        {
          "output_type": "stream",
          "name": "stdout",
          "text": [
            "O menor elemento da matriz é 1 e está na posição (1, 2)\n"
          ]
        }
      ],
      "source": [
        "# question 4\n",
        "def encontrar_menor_elemento(matriz):\n",
        "    if not matriz:\n",
        "        return None\n",
        "\n",
        "    menor_elemento = matriz[0][0]\n",
        "    linha, coluna = 0, 0\n",
        "\n",
        "    num_linhas = len(matriz)\n",
        "    num_colunas = len(matriz[0])\n",
        "\n",
        "    for i in range(num_linhas):\n",
        "        for j in range(num_colunas):\n",
        "            if matriz[i][j] < menor_elemento:\n",
        "                menor_elemento = matriz[i][j]\n",
        "                linha = i\n",
        "                coluna = j\n",
        "\n",
        "    return (menor_elemento, (linha, coluna))\n",
        "\n",
        "matriz_teste = [\n",
        "    [100, 22, 32, 33],\n",
        "    [212, 15, 1, 33],\n",
        "    [35413, 24, 21, 12]\n",
        "]\n",
        "\n",
        "menor, posicao = encontrar_menor_elemento(matriz_teste)\n",
        "print(f\"O menor elemento da matriz é {menor} e está na posição {posicao}\")\n"
      ]
    },
    {
      "cell_type": "code",
      "source": [
        "# question 5\n",
        "def eh_primo(numero):\n",
        "  if numero <= 1:\n",
        "    return False\n",
        "  else:\n",
        "    cont = 0\n",
        "    indice = 1\n",
        "    while indice <= numero or cont < 2:\n",
        "      x = numero % indice\n",
        "      if x == 0:\n",
        "        cont += 1\n",
        "      indice += 1\n",
        "\n",
        "  if cont <= 2:\n",
        "    return True\n",
        "  else:\n",
        "    return False\n",
        "\n",
        "matriz_teste = [\n",
        "    [1, 22, 32, 33],\n",
        "    [212, 15, 3, 33],\n",
        "    [7, 24, 21, 12]\n",
        "]\n",
        "\n",
        "def primo_matriz(matriz):\n",
        "  lista_primos = []\n",
        "  for i in matriz:\n",
        "    for j in i:\n",
        "      if eh_primo(j):\n",
        "        lista_primos.append(j)\n",
        "\n",
        "  print(f'Os números primos presentes na matriz são {lista_primos}')\n",
        "\n",
        "primo_matriz(matriz_teste)\n"
      ],
      "metadata": {
        "colab": {
          "base_uri": "https://localhost:8080/"
        },
        "id": "jkZeHh2Yzp-r",
        "outputId": "572e365e-4a77-43ed-e0e7-98bb5c12663c"
      },
      "execution_count": null,
      "outputs": [
        {
          "output_type": "stream",
          "name": "stdout",
          "text": [
            "Os números primos presentes na matriz são [3, 7]\n"
          ]
        }
      ]
    },
    {
      "cell_type": "code",
      "source": [
        "# question 6\n",
        "matriz_teste = [\n",
        "    [1, 22, 32, 33],\n",
        "    [212, 15, 3, 33],\n",
        "    [7, 24, 21, 12, 0]\n",
        "]\n",
        "def existe_o_num_na_matriz(matriz, numero):\n",
        "\n",
        "  for i in matriz:\n",
        "    for j in i:\n",
        "      if numero in i:\n",
        "        print(f'O número {numero} está na matriz')\n",
        "        return numero\n",
        "      else:\n",
        "        return -1\n",
        "existe_o_num_na_matriz(matriz_teste, 564564)"
      ],
      "metadata": {
        "colab": {
          "base_uri": "https://localhost:8080/"
        },
        "id": "B2P-yjzT4dJq",
        "outputId": "0fcd666f-75a9-4a4c-dda1-c1db91fcdc89"
      },
      "execution_count": null,
      "outputs": [
        {
          "output_type": "execute_result",
          "data": {
            "text/plain": [
              "-1"
            ]
          },
          "metadata": {},
          "execution_count": 33
        }
      ]
    },
    {
      "cell_type": "code",
      "source": [
        "# question 7\n",
        "matriz_teste = [\n",
        "    [1, 22, 32, 33],\n",
        "    [212, 15, 3, 33],\n",
        "    [7, 21, 12, 0],\n",
        "    [0, 1, 2, 3]\n",
        "]\n",
        "def matriz_quadrada(matriz):\n",
        "  linha = 0\n",
        "  while linha < len(matriz):\n",
        "    coluna = 0\n",
        "    while coluna < len(matriz[linha]):\n",
        "      if len(matriz[linha]) == len(matriz):\n",
        "        return True\n",
        "      else:\n",
        "        return False\n",
        "      coluna += 1\n",
        "    linha += 1\n",
        "\n",
        "\n",
        "matriz_quadrada(matriz_teste)"
      ],
      "metadata": {
        "colab": {
          "base_uri": "https://localhost:8080/"
        },
        "id": "-l_LPp145_Aq",
        "outputId": "2f1b4a0e-8433-4c43-b8e7-870764f0e746"
      },
      "execution_count": null,
      "outputs": [
        {
          "output_type": "stream",
          "name": "stdout",
          "text": [
            "Matriz Quadrada\n"
          ]
        },
        {
          "output_type": "execute_result",
          "data": {
            "text/plain": [
              "True"
            ]
          },
          "metadata": {},
          "execution_count": 43
        }
      ]
    },
    {
      "cell_type": "code",
      "source": [
        "# question 8\n",
        "def matriz_quadrada(matriz):\n",
        "  linha = 0\n",
        "  while linha < len(matriz):\n",
        "    coluna = 0\n",
        "    while coluna < len(matriz[linha]):\n",
        "      if len(matriz[linha]) == len(matriz):\n",
        "        return True\n",
        "      else:\n",
        "        return False\n",
        "      coluna += 1\n",
        "    linha += 1\n",
        "\n",
        "def soma_coluna(matriz):\n",
        "  coluna = 0\n",
        "\n",
        "  lista = []\n",
        "  while coluna < len(matriz):\n",
        "    linha = 0\n",
        "    somatorio = 0\n",
        "    while linha < len(matriz[coluna]):\n",
        "      somatorio += matriz[linha][coluna]\n",
        "      linha += 1\n",
        "\n",
        "    lista.append(somatorio)\n",
        "    coluna += 1\n",
        "  return lista\n",
        "\n",
        "'''\n",
        "00 10 20 30\n",
        "\n",
        "01 11 21 31\n",
        "\n",
        "02 12 22 32\n",
        "03 13 23 33\n",
        "'''\n",
        "\n",
        "matriz_teste = [\n",
        "    [1, 22, 32, 33],\n",
        "    [212, 15, 3, 33],\n",
        "    [7, 21, 12, 0],\n",
        "    [0, 1, 2, 3]\n",
        "]\n",
        "soma_coluna(matriz_teste)"
      ],
      "metadata": {
        "colab": {
          "base_uri": "https://localhost:8080/"
        },
        "id": "sRDhHJxA9h5G",
        "outputId": "c051474b-3785-4b4d-9ad0-d41c12a18c17"
      },
      "execution_count": null,
      "outputs": [
        {
          "output_type": "execute_result",
          "data": {
            "text/plain": [
              "[220, 59, 49, 69]"
            ]
          },
          "metadata": {},
          "execution_count": 15
        }
      ]
    },
    {
      "cell_type": "code",
      "source": [
        "# question 9\n",
        "def matriz_com_valores_nulos(matriz):\n",
        "  linha = 0\n",
        "  while linha < len(matriz):\n",
        "    coluna = 0\n",
        "    while coluna < len(matriz[linha]):\n",
        "      if matriz[linha][coluna] == '':\n",
        "        print(f'A posição que consta um valor nulo foram na linha: {linha} e na coluna: {coluna}')\n",
        "      coluna += 1\n",
        "    linha += 1\n",
        "\n",
        "matriz_teste = [\n",
        "    ['das', 'dasd', '', 'dasd'],\n",
        "    ['', 'fdaoufhapo]s', 'fçoashd']\n",
        "]\n",
        "matriz_com_valores_nulos(matriz_teste)"
      ],
      "metadata": {
        "colab": {
          "base_uri": "https://localhost:8080/"
        },
        "id": "QSCU3IvK-roA",
        "outputId": "9e0a24a3-a8f2-4259-9727-2ef6ef502264"
      },
      "execution_count": null,
      "outputs": [
        {
          "output_type": "stream",
          "name": "stdout",
          "text": [
            "A posição que consta um valor nulo foram na linha: 0 e na coluna: 2\n",
            "A posição que consta um valor nulo foram na linha: 1 e na coluna: 0\n"
          ]
        }
      ]
    },
    {
      "cell_type": "code",
      "source": [
        "# question 10\n",
        "def matriz_negativa(matriz):\n",
        "  l = 0\n",
        "  linha_negativa = []\n",
        "  while l < len(matriz):\n",
        "    contador_negativo = 0\n",
        "    while contador_negativo < len()\n",
        "    l += 1\n",
        "\n",
        "\n",
        "matriz_teste = [\n",
        "    [1, -2, 4],\n",
        "    [3, -5, 6],\n",
        "    [-8, -7, -9],\n",
        "]\n",
        "\n",
        "'''\n",
        "00 01 02\n",
        "10 11 12\n",
        "20 21 22\n",
        "'''\n",
        "\n",
        "matriz_negativa(matriz_teste)"
      ],
      "metadata": {
        "colab": {
          "base_uri": "https://localhost:8080/"
        },
        "id": "9OejITWdJe3F",
        "outputId": "cef00ac9-cc72-40f6-cb56-8e65ff674585"
      },
      "execution_count": null,
      "outputs": [
        {
          "output_type": "stream",
          "name": "stdout",
          "text": [
            "[1, -2, 4]\n",
            "[3, -5, 6]\n",
            "[-8, -7, -9]\n"
          ]
        }
      ]
    },
    {
      "cell_type": "code",
      "source": [
        "# question 11\n",
        "def matriz_simetrica(matriz):\n",
        "  linha = 0\n",
        "  while linha < len(matriz):\n",
        "    coluna = 0\n",
        "    while coluna < len(matriz[linha]):\n",
        "      # print(matriz[linha][coluna])\n",
        "      # print(matriz[coluna][linha])\n",
        "      if matriz[linha][coluna] != matriz[coluna][linha]:\n",
        "        return False\n",
        "      coluna += 1\n",
        "    linha += 1\n",
        "  return True\n",
        "\n",
        "matriz_teste = [\n",
        "    [1, 2, 4],\n",
        "    [2, 5, 6],\n",
        "    [4, 6, 9],\n",
        "]\n",
        "\n",
        "matriz_simetrica(matriz_teste)\n"
      ],
      "metadata": {
        "colab": {
          "base_uri": "https://localhost:8080/"
        },
        "id": "J4vu9RZmHgdh",
        "outputId": "29970a7b-f2a0-47f6-8cc2-bb56f809d2aa"
      },
      "execution_count": null,
      "outputs": [
        {
          "output_type": "stream",
          "name": "stdout",
          "text": [
            "1\n",
            "1\n",
            "2\n",
            "2\n",
            "4\n",
            "4\n",
            "2\n",
            "2\n",
            "5\n",
            "5\n",
            "6\n",
            "6\n",
            "4\n",
            "4\n",
            "6\n",
            "6\n",
            "9\n",
            "9\n"
          ]
        },
        {
          "output_type": "execute_result",
          "data": {
            "text/plain": [
              "True"
            ]
          },
          "metadata": {},
          "execution_count": 29
        }
      ]
    }
  ]
}