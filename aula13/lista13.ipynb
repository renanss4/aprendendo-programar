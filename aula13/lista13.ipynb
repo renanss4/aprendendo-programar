{
  "nbformat": 4,
  "nbformat_minor": 0,
  "metadata": {
    "colab": {
      "provenance": []
    },
    "kernelspec": {
      "name": "python3",
      "display_name": "Python 3"
    },
    "language_info": {
      "name": "python"
    }
  },
  "cells": [
    {
      "cell_type": "code",
      "execution_count": null,
      "metadata": {
        "colab": {
          "base_uri": "https://localhost:8080/"
        },
        "id": "77D_pZP05f4b",
        "outputId": "f8542221-f708-42ed-b674-985f6e9732ed"
      },
      "outputs": [
        {
          "output_type": "stream",
          "name": "stdout",
          "text": [
            "1\n",
            "2\n",
            "1\n",
            "3\n",
            "2\n",
            "2\n"
          ]
        }
      ],
      "source": [
        "# exemplos\n",
        "def matriz1(matriz):\n",
        "  i = 0\n",
        "  while i < len(matriz):\n",
        "    print(matriz[i][i])\n",
        "    i += 1\n",
        "\n",
        "def matriz2(matriz):\n",
        "  tam = len(matriz)\n",
        "  ultimo_i = tam-1\n",
        "  primeiro_i = 0\n",
        "  while primeiro_i < tam:\n",
        "    print(matriz[primeiro_i][ultimo_i])\n",
        "    primeiro_i += 1\n",
        "    ultimo_i -= 1\n",
        "\n",
        "\"\"\"\n",
        "00 11 22 33\n",
        "\n",
        "\n",
        "03 12 21 30\n",
        "\"\"\"\n",
        "matriz_teste = [\n",
        "    [1, 2, 3],\n",
        "    [3, 2, 1],\n",
        "    [2, 3, 1]\n",
        "]\n",
        "matriz1(matriz_teste)\n",
        "matriz2(matriz_teste)"
      ]
    },
    {
      "cell_type": "code",
      "source": [
        "# question 1\n",
        "def matriz1(matriz):\n",
        "  i = 0\n",
        "  soma = 0\n",
        "  while i < len(matriz):\n",
        "    soma += matriz[i][i]\n",
        "    i += 1\n",
        "  media = soma/len(matriz)\n",
        "\n",
        "  return media\n",
        "\n",
        "\n",
        "matriz_teste = [\n",
        "    [1, 2, 3],\n",
        "    [3, 2, 1],\n",
        "    [2, 3, 1]\n",
        "]\n",
        "\n",
        "matriz1(matriz_teste)"
      ],
      "metadata": {
        "colab": {
          "base_uri": "https://localhost:8080/"
        },
        "id": "8DQXXiKC7CZf",
        "outputId": "c4e64798-5ac1-46b5-e08f-64c6df3c7508"
      },
      "execution_count": null,
      "outputs": [
        {
          "output_type": "execute_result",
          "data": {
            "text/plain": [
              "1.3333333333333333"
            ]
          },
          "metadata": {},
          "execution_count": 8
        }
      ]
    },
    {
      "cell_type": "code",
      "source": [
        "# question 2\n",
        "def matriz2(matriz):\n",
        "  tam = len(matriz)\n",
        "  ultimo_i = tam-1\n",
        "  primeiro_i = 0\n",
        "  primeiro_elemento = matriz[primeiro_i][ultimo_i]\n",
        "  while primeiro_i < tam:\n",
        "    if primeiro_elemento != matriz[primeiro_i][ultimo_i]:\n",
        "      return False\n",
        "    primeiro_i += 1\n",
        "    ultimo_i -= 1\n",
        "\n",
        "  return True\n",
        "\n",
        "\n",
        "matriz_teste = [\n",
        "    [1, 2, 3, 4],\n",
        "    [4, 3, 4, 1],\n",
        "    [10, 4, 23, 31],\n",
        "    [4, 12, 33, 21]\n",
        "]\n",
        "matriz2(matriz_teste)"
      ],
      "metadata": {
        "colab": {
          "base_uri": "https://localhost:8080/"
        },
        "id": "HD2vNVEN8IRO",
        "outputId": "9cc3dbf1-b1bd-4b30-8fdc-7f4d10b80fb1"
      },
      "execution_count": null,
      "outputs": [
        {
          "output_type": "execute_result",
          "data": {
            "text/plain": [
              "True"
            ]
          },
          "metadata": {},
          "execution_count": 2
        }
      ]
    },
    {
      "cell_type": "code",
      "source": [
        "# question 3\n",
        "\n",
        "def matriz3(matriz):\n",
        "  linha = 0\n",
        "  matriz_nova = []\n",
        "  while linha < len(matriz):\n",
        "    coluna = 0\n",
        "    lista = []\n",
        "    while coluna < len(matriz[linha]):\n",
        "\n",
        "      multiplicador = matriz[linha][linha]\n",
        "      valor = matriz[linha][coluna] * multiplicador\n",
        "      lista.append(valor)\n",
        "      coluna += 1\n",
        "\n",
        "    matriz_nova.append(lista)\n",
        "    linha += 1\n",
        "\n",
        "  print(multiplicador,\",\", valor)\n",
        "  return matriz_nova\n",
        "\n",
        "\n",
        "matriz_teste = [\n",
        "    [2, 2, 3, 4],\n",
        "    [4, 3, 4, 1],\n",
        "    [10, 4, 8, 9],\n",
        "    [4, 12, 5, 11]\n",
        "]\n",
        "matriz3(matriz_teste)\n",
        "# pega_diagonal_principal(matriz_teste)"
      ],
      "metadata": {
        "colab": {
          "base_uri": "https://localhost:8080/"
        },
        "id": "r-cHUw0n_Gc5",
        "outputId": "678a2bc7-f66a-4d67-e3d0-2db026a47642"
      },
      "execution_count": null,
      "outputs": [
        {
          "output_type": "stream",
          "name": "stdout",
          "text": [
            "11 , 121\n"
          ]
        },
        {
          "output_type": "execute_result",
          "data": {
            "text/plain": [
              "[[4, 4, 6, 8], [12, 9, 12, 3], [80, 32, 64, 72], [44, 132, 55, 121]]"
            ]
          },
          "metadata": {},
          "execution_count": 1
        }
      ]
    },
    {
      "cell_type": "code",
      "source": [
        "# question 4\n",
        "def matriz4(matriz):\n",
        "  inicio_i = 0\n",
        "  final_i = len(matriz)-1\n",
        "  soma_principal = 0\n",
        "  soma_secundaria = 0\n",
        "  while inicio_i < len(matriz):\n",
        "    soma_principal += matriz[inicio_i][inicio_i]\n",
        "    soma_secundaria += matriz[inicio_i][final_i]\n",
        "    inicio_i += 1\n",
        "    final_i -= 1\n",
        "  if soma_principal == soma_secundaria:\n",
        "    return True\n",
        "\n",
        "  return False\n",
        "\n",
        "matriz_teste = [\n",
        "    [8, 0, 7],\n",
        "    [4, 5, 6],\n",
        "    [3, 10, 2]\n",
        "]\n",
        "'''\n",
        "00 01 02\n",
        "10 11 12\n",
        "20 21 22\n",
        "'''\n",
        "matriz4(matriz_teste)"
      ],
      "metadata": {
        "colab": {
          "base_uri": "https://localhost:8080/"
        },
        "id": "DD3KY5BmEgFO",
        "outputId": "99b3eed0-73d2-4992-c57f-a2254b939d78"
      },
      "execution_count": null,
      "outputs": [
        {
          "output_type": "execute_result",
          "data": {
            "text/plain": [
              "True"
            ]
          },
          "metadata": {},
          "execution_count": 1
        }
      ]
    },
    {
      "cell_type": "code",
      "source": [
        "# question 5\n",
        "def matriz5(matriz):\n",
        "  d = 0\n",
        "  while d < len(matriz):\n",
        "    l = 0\n",
        "    c = d\n",
        "    while c < len(matriz):\n",
        "      if matriz[l][c] == 0:\n",
        "        print( f'A {d+1}ª diagonal possui o valor 0')\n",
        "\n",
        "      l += 1\n",
        "      c += 1\n",
        "    d += 1\n",
        "    print()\n",
        "\n",
        "\n",
        "matriz_teste = [\n",
        "    [8, 0, 7],\n",
        "    [4, 0, 6],\n",
        "    [3, 10, 2]\n",
        "]\n",
        "\n",
        "'''\n",
        "00 01 02\n",
        "10 11 12\n",
        "20 21 22\n",
        "\n",
        "d0 = 00 11 22\n",
        "d1 = 01 12\n",
        "d2 = 02\n",
        "'''\n",
        "\n",
        "matriz5(matriz_teste)"
      ],
      "metadata": {
        "colab": {
          "base_uri": "https://localhost:8080/"
        },
        "id": "ARi2sqrdPf7-",
        "outputId": "0e1eb5c4-9273-4ccb-e51a-1da6ff73f3a6"
      },
      "execution_count": null,
      "outputs": [
        {
          "output_type": "stream",
          "name": "stdout",
          "text": [
            "A 1ª diagonal possui o valor 0\n",
            "\n",
            "A 2ª diagonal possui o valor 0\n",
            "\n",
            "\n"
          ]
        }
      ]
    },
    {
      "cell_type": "code",
      "source": [
        "\"\"\"\n",
        "extra 6, desejo pegar as diagonais para baixo\n",
        "\n",
        "00 01 02\n",
        "10 11 12\n",
        "20 21 22\n",
        "\n",
        "d0 = 00 11 22\n",
        "d1 = 10 21\n",
        "d2 = 20\n",
        "\"\"\"\n",
        "def matriz6(matriz):\n",
        "  d = 0\n",
        "  while d < len(matriz):\n",
        "    l = d\n",
        "    c = 0\n",
        "    while l < len(matriz):\n",
        "      print(matriz[l][c], end=' ')\n",
        "      l += 1\n",
        "      c += 1\n",
        "    d += 1\n",
        "    print()\n",
        "\n",
        "matriz_teste = [\n",
        "    [8, 0, 7],\n",
        "    [4, 0, 6],\n",
        "    [3, 10, 2]\n",
        "]\n",
        "matriz6(matriz_teste)"
      ],
      "metadata": {
        "id": "PqpqYiTLTUf_",
        "colab": {
          "base_uri": "https://localhost:8080/"
        },
        "outputId": "2d606e4e-1147-4ec9-bfae-0ff9b2c7e770"
      },
      "execution_count": null,
      "outputs": [
        {
          "output_type": "stream",
          "name": "stdout",
          "text": [
            "8 0 2 \n",
            "4 10 \n",
            "3 \n"
          ]
        }
      ]
    }
  ]
}