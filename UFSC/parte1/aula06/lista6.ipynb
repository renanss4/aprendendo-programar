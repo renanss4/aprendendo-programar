{
  "nbformat": 4,
  "nbformat_minor": 0,
  "metadata": {
    "colab": {
      "provenance": []
    },
    "kernelspec": {
      "name": "python3",
      "display_name": "Python 3"
    },
    "language_info": {
      "name": "python"
    }
  },
  "cells": [
    {
      "cell_type": "code",
      "execution_count": null,
      "metadata": {
        "colab": {
          "base_uri": "https://localhost:8080/"
        },
        "id": "q9i2EmT5YBYn",
        "outputId": "efbc1bf0-5a74-4002-9a8b-81aea1093185"
      },
      "outputs": [
        {
          "output_type": "stream",
          "name": "stdout",
          "text": [
            "Digite um número maior que 0: 50\n",
            "49\n",
            "47\n",
            "45\n",
            "43\n",
            "41\n",
            "39\n",
            "37\n",
            "35\n",
            "33\n",
            "31\n",
            "29\n",
            "27\n",
            "25\n",
            "23\n",
            "21\n",
            "19\n",
            "17\n",
            "15\n",
            "13\n",
            "11\n",
            "9\n",
            "7\n",
            "5\n",
            "3\n",
            "1\n"
          ]
        }
      ],
      "source": [
        "valor_usuario = int(input('Digite um número maior que 0: '))\n",
        "cont = 0\n",
        "while valor_usuario > cont:\n",
        "  if valor_usuario % 2 != 0:\n",
        "    print(valor_usuario)\n",
        "  valor_usuario = valor_usuario -1"
      ]
    },
    {
      "cell_type": "code",
      "source": [
        "num = 20\n",
        "while num >= 0:\n",
        "  print(num)\n",
        "  num = num-1"
      ],
      "metadata": {
        "colab": {
          "base_uri": "https://localhost:8080/"
        },
        "id": "oCFuFIVufVT0",
        "outputId": "015e2c81-9dd9-4695-a07a-cf7b93041088"
      },
      "execution_count": null,
      "outputs": [
        {
          "output_type": "stream",
          "name": "stdout",
          "text": [
            "20\n",
            "19\n",
            "18\n",
            "17\n",
            "16\n",
            "15\n",
            "14\n",
            "13\n",
            "12\n",
            "11\n",
            "10\n",
            "9\n",
            "8\n",
            "7\n",
            "6\n",
            "5\n",
            "4\n",
            "3\n",
            "2\n",
            "1\n",
            "0\n"
          ]
        }
      ]
    },
    {
      "cell_type": "code",
      "source": [
        "num = int(input('Digite um número positivo: '))\n",
        "contador = 0\n",
        "result = 0\n",
        "while contador <= 10:\n",
        "  print(f'{num} x {contador} = {result}')\n",
        "  contador = contador + 1\n",
        "  result = num * contador"
      ],
      "metadata": {
        "id": "7uLcbopffhp_",
        "colab": {
          "base_uri": "https://localhost:8080/"
        },
        "outputId": "d6a94922-b4d5-422d-dca0-3f792fc68512"
      },
      "execution_count": null,
      "outputs": [
        {
          "output_type": "stream",
          "name": "stdout",
          "text": [
            "Digite um número positivo: 5\n",
            "5 x 0 = 0\n",
            "5 x 1 = 5\n",
            "5 x 2 = 10\n",
            "5 x 3 = 15\n",
            "5 x 4 = 20\n",
            "5 x 5 = 25\n",
            "5 x 6 = 30\n",
            "5 x 7 = 35\n",
            "5 x 8 = 40\n",
            "5 x 9 = 45\n",
            "5 x 10 = 50\n"
          ]
        }
      ]
    },
    {
      "cell_type": "code",
      "source": [
        "inferior = int(input('Digite o limite inferior: '))\n",
        "superior = int(input('Digite o limite superior: '))\n",
        "result = 0\n",
        "if superior < inferior:\n",
        "  print('erro')\n",
        "else:\n",
        "  while superior >= inferior:\n",
        "    result = inferior + result\n",
        "    inferior = inferior + 1\n",
        "  print(result)\n",
        "\n"
      ],
      "metadata": {
        "colab": {
          "base_uri": "https://localhost:8080/"
        },
        "id": "Q5hqFyTribhR",
        "outputId": "7d6a1260-ffbd-44d6-98d5-d5a11823c2ff"
      },
      "execution_count": null,
      "outputs": [
        {
          "output_type": "stream",
          "name": "stdout",
          "text": [
            "Digite o limite inferior: 0\n",
            "Digite o limite superior: 5\n",
            "15\n"
          ]
        }
      ]
    },
    {
      "cell_type": "code",
      "source": [
        "num1 = int(input(\"Digite um número: \"))\n",
        "multiplos = int(input(\"Digite o total de múltiplos a apresentar: \"))\n",
        "multiplo_atual = 1\n",
        "\n",
        "print(f\"Os {multiplos} múltiplos de {num1} em ordem crescente são:\")\n",
        "while multiplos > 0:\n",
        "    if multiplo_atual % num1 == 0:\n",
        "        print(multiplo_atual)\n",
        "        multiplos -= 1\n",
        "    multiplo_atual += 1\n"
      ],
      "metadata": {
        "colab": {
          "base_uri": "https://localhost:8080/"
        },
        "id": "Kary8R_GZtNq",
        "outputId": "567c9a94-f0d6-4908-a092-1fea8185806d"
      },
      "execution_count": null,
      "outputs": [
        {
          "output_type": "stream",
          "name": "stdout",
          "text": [
            "Digite um número: 11\n",
            "Digite o total de múltiplos a apresentar: 11\n",
            "Os 11 múltiplos de 11 em ordem crescente são:\n",
            "11\n",
            "22\n",
            "33\n",
            "44\n",
            "55\n",
            "66\n",
            "77\n",
            "88\n",
            "99\n",
            "110\n",
            "121\n"
          ]
        }
      ]
    },
    {
      "cell_type": "code",
      "source": [
        "num1 = int(input('Digite o inicio: '))\n",
        "num2 = int(input('Digite o final: '))\n",
        "if num2 < num1:\n",
        "  print('erro')\n",
        "else:\n",
        "  result = 1\n",
        "  while num2 >= num1:\n",
        "    result = num1 * result\n",
        "    num1 = num1 + 1\n",
        "  print(result)\n",
        "\n"
      ],
      "metadata": {
        "colab": {
          "base_uri": "https://localhost:8080/"
        },
        "id": "x4-iukW8etwY",
        "outputId": "a39090c1-c8ce-467a-eb06-2d4e4defe320"
      },
      "execution_count": null,
      "outputs": [
        {
          "output_type": "stream",
          "name": "stdout",
          "text": [
            "Digite o inicio: 1\n",
            "Digite o final: 5\n",
            "120\n"
          ]
        }
      ]
    },
    {
      "cell_type": "code",
      "source": [
        "num_entrada = float(input())\n",
        "soma_total = 0\n",
        "contador = 0\n",
        "while num_entrada != 0:\n",
        "  soma_total += num_entrada\n",
        "  contador += 1\n",
        "  num_entrada = float(input())\n",
        "media = soma_total / contador\n",
        "print(soma_total, media, contador)"
      ],
      "metadata": {
        "colab": {
          "base_uri": "https://localhost:8080/"
        },
        "id": "3_DMdQA-kSJf",
        "outputId": "5a4d1e9c-7c2d-4cba-8e3d-26d19949cec1"
      },
      "execution_count": null,
      "outputs": [
        {
          "output_type": "stream",
          "name": "stdout",
          "text": [
            "8\n",
            "1.5\n",
            "3.9\n",
            "0.5\n",
            "0.1\n",
            "0\n",
            "14.0 2.8 5\n"
          ]
        }
      ]
    },
    {
      "cell_type": "code",
      "source": [
        "while True:\n",
        "    valor_usuario = int(input(\"Digite um valor inteiro entre 1 e 9 (ou 0 para sair): \"))\n",
        "\n",
        "    if valor_usuario == 0:\n",
        "        break  # Encerra o programa se o usuário digitar 0\n",
        "    elif 1 <= valor_usuario <= 9:\n",
        "        contador = 0\n",
        "        numero = 1\n",
        "        while numero <= 1000:\n",
        "            if numero % valor_usuario == 0:\n",
        "                contador += 1\n",
        "            numero += 1\n",
        "        print(f\"Existem {contador} números divisíveis por {valor_usuario} no intervalo de 1 a 1000.\")\n",
        "    else:\n",
        "        print(\"Valor fora do intervalo válido (1 a 9). Tente novamente.\")\n"
      ],
      "metadata": {
        "colab": {
          "base_uri": "https://localhost:8080/",
          "height": 407
        },
        "id": "C82kIaI4mSgK",
        "outputId": "06af1f86-5c9f-43a6-b114-c697af46e05f"
      },
      "execution_count": null,
      "outputs": [
        {
          "output_type": "error",
          "ename": "KeyboardInterrupt",
          "evalue": "ignored",
          "traceback": [
            "\u001b[0;31m---------------------------------------------------------------------------\u001b[0m",
            "\u001b[0;31mKeyboardInterrupt\u001b[0m                         Traceback (most recent call last)",
            "\u001b[0;32m<ipython-input-21-013e9663a309>\u001b[0m in \u001b[0;36m<cell line: 1>\u001b[0;34m()\u001b[0m\n\u001b[0;32m----> 1\u001b[0;31m \u001b[0mnum_entrada\u001b[0m \u001b[0;34m=\u001b[0m \u001b[0mint\u001b[0m\u001b[0;34m(\u001b[0m\u001b[0minput\u001b[0m\u001b[0;34m(\u001b[0m\u001b[0;34m)\u001b[0m\u001b[0;34m)\u001b[0m\u001b[0;34m\u001b[0m\u001b[0;34m\u001b[0m\u001b[0m\n\u001b[0m\u001b[1;32m      2\u001b[0m \u001b[0;32mwhile\u001b[0m \u001b[0mnum_entrada\u001b[0m \u001b[0;34m<\u001b[0m \u001b[0;36m1\u001b[0m \u001b[0;32mor\u001b[0m \u001b[0mnum_entrada\u001b[0m \u001b[0;34m>\u001b[0m \u001b[0;36m9\u001b[0m\u001b[0;34m:\u001b[0m\u001b[0;34m\u001b[0m\u001b[0;34m\u001b[0m\u001b[0m\n\u001b[1;32m      3\u001b[0m   \u001b[0mprint\u001b[0m\u001b[0;34m(\u001b[0m\u001b[0;34m'entrada invalida, digite novamente: '\u001b[0m\u001b[0;34m)\u001b[0m\u001b[0;34m\u001b[0m\u001b[0;34m\u001b[0m\u001b[0m\n\u001b[1;32m      4\u001b[0m   \u001b[0mnum_entrada\u001b[0m \u001b[0;34m=\u001b[0m \u001b[0mint\u001b[0m\u001b[0;34m(\u001b[0m\u001b[0minput\u001b[0m\u001b[0;34m(\u001b[0m\u001b[0;34m)\u001b[0m\u001b[0;34m)\u001b[0m\u001b[0;34m\u001b[0m\u001b[0;34m\u001b[0m\u001b[0m\n\u001b[1;32m      5\u001b[0m   \u001b[0;32mif\u001b[0m \u001b[0mnum_entrada\u001b[0m \u001b[0;34m==\u001b[0m \u001b[0;36m0\u001b[0m\u001b[0;34m:\u001b[0m\u001b[0;34m\u001b[0m\u001b[0;34m\u001b[0m\u001b[0m\n",
            "\u001b[0;32m/usr/local/lib/python3.10/dist-packages/ipykernel/kernelbase.py\u001b[0m in \u001b[0;36mraw_input\u001b[0;34m(self, prompt)\u001b[0m\n\u001b[1;32m    849\u001b[0m                 \u001b[0;34m\"raw_input was called, but this frontend does not support input requests.\"\u001b[0m\u001b[0;34m\u001b[0m\u001b[0;34m\u001b[0m\u001b[0m\n\u001b[1;32m    850\u001b[0m             )\n\u001b[0;32m--> 851\u001b[0;31m         return self._input_request(str(prompt),\n\u001b[0m\u001b[1;32m    852\u001b[0m             \u001b[0mself\u001b[0m\u001b[0;34m.\u001b[0m\u001b[0m_parent_ident\u001b[0m\u001b[0;34m,\u001b[0m\u001b[0;34m\u001b[0m\u001b[0;34m\u001b[0m\u001b[0m\n\u001b[1;32m    853\u001b[0m             \u001b[0mself\u001b[0m\u001b[0;34m.\u001b[0m\u001b[0m_parent_header\u001b[0m\u001b[0;34m,\u001b[0m\u001b[0;34m\u001b[0m\u001b[0;34m\u001b[0m\u001b[0m\n",
            "\u001b[0;32m/usr/local/lib/python3.10/dist-packages/ipykernel/kernelbase.py\u001b[0m in \u001b[0;36m_input_request\u001b[0;34m(self, prompt, ident, parent, password)\u001b[0m\n\u001b[1;32m    893\u001b[0m             \u001b[0;32mexcept\u001b[0m \u001b[0mKeyboardInterrupt\u001b[0m\u001b[0;34m:\u001b[0m\u001b[0;34m\u001b[0m\u001b[0;34m\u001b[0m\u001b[0m\n\u001b[1;32m    894\u001b[0m                 \u001b[0;31m# re-raise KeyboardInterrupt, to truncate traceback\u001b[0m\u001b[0;34m\u001b[0m\u001b[0;34m\u001b[0m\u001b[0m\n\u001b[0;32m--> 895\u001b[0;31m                 \u001b[0;32mraise\u001b[0m \u001b[0mKeyboardInterrupt\u001b[0m\u001b[0;34m(\u001b[0m\u001b[0;34m\"Interrupted by user\"\u001b[0m\u001b[0;34m)\u001b[0m \u001b[0;32mfrom\u001b[0m \u001b[0;32mNone\u001b[0m\u001b[0;34m\u001b[0m\u001b[0;34m\u001b[0m\u001b[0m\n\u001b[0m\u001b[1;32m    896\u001b[0m             \u001b[0;32mexcept\u001b[0m \u001b[0mException\u001b[0m \u001b[0;32mas\u001b[0m \u001b[0me\u001b[0m\u001b[0;34m:\u001b[0m\u001b[0;34m\u001b[0m\u001b[0;34m\u001b[0m\u001b[0m\n\u001b[1;32m    897\u001b[0m                 \u001b[0mself\u001b[0m\u001b[0;34m.\u001b[0m\u001b[0mlog\u001b[0m\u001b[0;34m.\u001b[0m\u001b[0mwarning\u001b[0m\u001b[0;34m(\u001b[0m\u001b[0;34m\"Invalid Message:\"\u001b[0m\u001b[0;34m,\u001b[0m \u001b[0mexc_info\u001b[0m\u001b[0;34m=\u001b[0m\u001b[0;32mTrue\u001b[0m\u001b[0;34m)\u001b[0m\u001b[0;34m\u001b[0m\u001b[0;34m\u001b[0m\u001b[0m\n",
            "\u001b[0;31mKeyboardInterrupt\u001b[0m: Interrupted by user"
          ]
        }
      ]
    },
    {
      "cell_type": "code",
      "source": [
        "# Solicita a quantidade de caracteres a serem exibidos\n",
        "quantidade_caracteres = int(input(\"Digite a quantidade de caracteres a serem exibidos (maior que 0): \"))\n",
        "\n",
        "# Verifica se a quantidade é maior que 0\n",
        "if quantidade_caracteres <= 0:\n",
        "    print(\"A quantidade deve ser maior que 0.\")\n",
        "else:\n",
        "    resultado = \"\"\n",
        "    contagem_A = 0\n",
        "    contagem_B = 0\n",
        "    contagem_C = 0\n",
        "    i = 0\n",
        "\n",
        "    while i < quantidade_caracteres:\n",
        "        if contagem_A < 3:\n",
        "            resultado += 'A'\n",
        "            contagem_A += 1\n",
        "        elif contagem_B < 3:\n",
        "            resultado += 'B'\n",
        "            contagem_B += 1\n",
        "        else:\n",
        "            resultado += 'C'\n",
        "            contagem_C += 1\n",
        "\n",
        "        if contagem_A == 3:\n",
        "            contagem_A = 0\n",
        "        if contagem_B == 3:\n",
        "            contagem_B = 0\n",
        "        if contagem_C == 3:\n",
        "            contagem_C = 0\n",
        "\n",
        "        i += 1\n",
        "\n",
        "    # Exibe o resultado\n",
        "    print(\"Resultado:\", resultado)\n",
        "    print(f\"Quantidade de A: {resultado.count('A')}\")\n",
        "    print(f\"Quantidade de B: {resultado.count('B')}\")\n",
        "    print(f\"Quantidade de C: {resultado.count('C')}\")\n",
        "\n",
        "    # Retorna a quantidade de B exibidos\n",
        "    quantidade_B_exibidos = resultado.count('B')\n",
        "    print(f\"Quantidade de B exibidos: {quantidade_B_exibidos}\")\n",
        "\n"
      ],
      "metadata": {
        "colab": {
          "base_uri": "https://localhost:8080/"
        },
        "id": "IgKiZuaYpiJd",
        "outputId": "12710ed8-be38-4dd9-a39e-db9d6571bec2"
      },
      "execution_count": null,
      "outputs": [
        {
          "output_type": "stream",
          "name": "stdout",
          "text": [
            "5\n",
            "A A A B B B B A A "
          ]
        }
      ]
    }
  ]
}