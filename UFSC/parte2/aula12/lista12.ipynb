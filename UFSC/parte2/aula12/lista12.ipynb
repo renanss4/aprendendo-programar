{
  "nbformat": 4,
  "nbformat_minor": 0,
  "metadata": {
    "colab": {
      "provenance": []
    },
    "kernelspec": {
      "name": "python3",
      "display_name": "Python 3"
    },
    "language_info": {
      "name": "python"
    }
  },
  "cells": [
    {
      "cell_type": "code",
      "execution_count": null,
      "metadata": {
        "id": "R1_D2dh-rnOM",
        "colab": {
          "base_uri": "https://localhost:8080/"
        },
        "outputId": "1e9fc820-ff8d-4e8d-fed5-a63828bd1292"
      },
      "outputs": [
        {
          "output_type": "execute_result",
          "data": {
            "text/plain": [
              "[[0, 0, 0, 0, 0],\n",
              " [0, 0, 0, 0, 0],\n",
              " [0, 0, 0, 0, 0],\n",
              " [0, 0, 0, 0, 0],\n",
              " [0, 0, 0, 0, 0]]"
            ]
          },
          "metadata": {},
          "execution_count": 9
        }
      ],
      "source": [
        "# question 1\n",
        "def matriz1(qt_linha, qt_coluna):\n",
        "  matriz = []\n",
        "  cont_linha = 0\n",
        "  while cont_linha < qt_linha:\n",
        "    cont_coluna = 0\n",
        "    linha = []\n",
        "    while cont_coluna < qt_coluna:\n",
        "      linha.append(0)\n",
        "      cont_coluna += 1\n",
        "    matriz.append(linha)\n",
        "    cont_linha += 1\n",
        "\n",
        "  return matriz\n",
        "\n",
        "matriz1(5, 5)"
      ]
    },
    {
      "cell_type": "code",
      "source": [
        "# question 2\n",
        "from random import randint\n",
        "def matriz2(qt_linha, qt_coluna, limite):\n",
        "  negativo = limite * -1\n",
        "  positivo = limite\n",
        "  matriz = []\n",
        "  linha = 0\n",
        "  while linha < qt_linha:\n",
        "    coluna = 0\n",
        "    linhas = []\n",
        "    while coluna < qt_coluna:\n",
        "      linhas.append(randint(negativo, positivo))\n",
        "      coluna += 1\n",
        "    matriz.append(linhas)\n",
        "    linha += 1\n",
        "\n",
        "  return matriz\n",
        "\n",
        "matriz2(5, 5, 2)"
      ],
      "metadata": {
        "colab": {
          "base_uri": "https://localhost:8080/"
        },
        "id": "IJjkLqw4umEi",
        "outputId": "594eb10c-763c-4e99-86f1-f0f69a8f2209"
      },
      "execution_count": null,
      "outputs": [
        {
          "output_type": "execute_result",
          "data": {
            "text/plain": [
              "[[1, 2, 0, 2, -2],\n",
              " [-1, -1, -2, 2, 0],\n",
              " [0, 0, -2, -1, 2],\n",
              " [-2, 1, -1, -2, -2],\n",
              " [-1, 1, 1, 2, 1]]"
            ]
          },
          "metadata": {},
          "execution_count": 17
        }
      ]
    },
    {
      "cell_type": "code",
      "source": [
        "# question 3\n",
        "\n",
        "def obter_dimensoes(matriz):\n",
        "    linhas = 0\n",
        "    colunas = 0\n",
        "    while matriz:\n",
        "        linhas += 1\n",
        "        if colunas == 0:\n",
        "            colunas = len(matriz[0])\n",
        "        elif len(matriz[0]) != colunas:\n",
        "            return []\n",
        "        matriz = matriz[1:]\n",
        "        # print(matriz)\n",
        "\n",
        "    return [linhas, colunas]\n",
        "\n",
        "matriz_teste = [\n",
        "    [1, 2, 0, 2],\n",
        "    [-1, -1, -2, 2],\n",
        "    [0, 0, -2, -1],\n",
        "    [-2, 1, -1, 5]\n",
        "]\n",
        "obter_dimensoes(matriz_teste)"
      ],
      "metadata": {
        "id": "Wjhw8zNN0fjK",
        "colab": {
          "base_uri": "https://localhost:8080/"
        },
        "outputId": "feac5568-4a01-471b-e4fb-86f0adc2f870"
      },
      "execution_count": null,
      "outputs": [
        {
          "output_type": "execute_result",
          "data": {
            "text/plain": [
              "[4, 4]"
            ]
          },
          "metadata": {},
          "execution_count": 13
        }
      ]
    },
    {
      "cell_type": "code",
      "source": [
        "# question 4\n",
        "def obter_dimensoes(matriz):\n",
        "    linhas = 0\n",
        "    colunas = 0\n",
        "    while matriz:\n",
        "        linhas += 1\n",
        "        if colunas == 0:\n",
        "            colunas = len(matriz[0])\n",
        "        elif len(matriz[0]) != colunas:\n",
        "            return []\n",
        "        matriz = matriz[1:]\n",
        "    return [linhas, colunas]\n",
        "\n",
        "def somatorio_matriz(matriz1, matriz2):\n",
        "  if obter_dimensoes(matriz1) == [] or obter_dimensoes(matriz2) == []:\n",
        "    return False\n",
        "\n",
        "  somatorio_matriz = []\n",
        "  l = 0\n",
        "  while l < len(matriz1):\n",
        "    c = 0\n",
        "    soma_elemento = 0\n",
        "    soma_linha_elemento = []\n",
        "    while c < len(matriz1[l]):\n",
        "      soma_elemento = matriz1[l][c] + matriz2[l][c]\n",
        "      c+=1\n",
        "      soma_linha_elemento.append(soma_elemento)\n",
        "    l+=1\n",
        "    somatorio_matriz.append(soma_linha_elemento)\n",
        "\n",
        "  return somatorio_matriz\n",
        "\n",
        "matriz_teste1 = [\n",
        "    [1, 2, 3],\n",
        "    [3, 1, 2],\n",
        "    [1, 23, 2]\n",
        "]\n",
        "matriz_teste2 = [\n",
        "    [1, 2, 3],\n",
        "    [3, 1, 2],\n",
        "\n",
        "]\n",
        "# obter_dimensoes(matriz_teste1)\n",
        "# obter_dimensoes(matriz_teste2)\n",
        "somatorio_matriz(matriz_teste1, matriz_teste2)"
      ],
      "metadata": {
        "colab": {
          "base_uri": "https://localhost:8080/",
          "height": 331
        },
        "id": "ZUwESsW8lnAI",
        "outputId": "2c77ced3-4be8-4164-94af-fd855bc53c16"
      },
      "execution_count": null,
      "outputs": [
        {
          "output_type": "error",
          "ename": "IndexError",
          "evalue": "ignored",
          "traceback": [
            "\u001b[0;31m---------------------------------------------------------------------------\u001b[0m",
            "\u001b[0;31mIndexError\u001b[0m                                Traceback (most recent call last)",
            "\u001b[0;32m<ipython-input-39-9f00ba1e70b8>\u001b[0m in \u001b[0;36m<cell line: 45>\u001b[0;34m()\u001b[0m\n\u001b[1;32m     43\u001b[0m \u001b[0;31m# obter_dimensoes(matriz_teste1)\u001b[0m\u001b[0;34m\u001b[0m\u001b[0;34m\u001b[0m\u001b[0m\n\u001b[1;32m     44\u001b[0m \u001b[0;31m# obter_dimensoes(matriz_teste2)\u001b[0m\u001b[0;34m\u001b[0m\u001b[0;34m\u001b[0m\u001b[0m\n\u001b[0;32m---> 45\u001b[0;31m \u001b[0msomatorio_matriz\u001b[0m\u001b[0;34m(\u001b[0m\u001b[0mmatriz_teste1\u001b[0m\u001b[0;34m,\u001b[0m \u001b[0mmatriz_teste2\u001b[0m\u001b[0;34m)\u001b[0m\u001b[0;34m\u001b[0m\u001b[0;34m\u001b[0m\u001b[0m\n\u001b[0m",
            "\u001b[0;32m<ipython-input-39-9f00ba1e70b8>\u001b[0m in \u001b[0;36msomatorio_matriz\u001b[0;34m(matriz1, matriz2)\u001b[0m\n\u001b[1;32m     23\u001b[0m     \u001b[0msoma_linha_elemento\u001b[0m \u001b[0;34m=\u001b[0m \u001b[0;34m[\u001b[0m\u001b[0;34m]\u001b[0m\u001b[0;34m\u001b[0m\u001b[0;34m\u001b[0m\u001b[0m\n\u001b[1;32m     24\u001b[0m     \u001b[0;32mwhile\u001b[0m \u001b[0mc\u001b[0m \u001b[0;34m<\u001b[0m \u001b[0mlen\u001b[0m\u001b[0;34m(\u001b[0m\u001b[0mmatriz1\u001b[0m\u001b[0;34m[\u001b[0m\u001b[0ml\u001b[0m\u001b[0;34m]\u001b[0m\u001b[0;34m)\u001b[0m\u001b[0;34m:\u001b[0m\u001b[0;34m\u001b[0m\u001b[0;34m\u001b[0m\u001b[0m\n\u001b[0;32m---> 25\u001b[0;31m       \u001b[0msoma_elemento\u001b[0m \u001b[0;34m=\u001b[0m \u001b[0mmatriz1\u001b[0m\u001b[0;34m[\u001b[0m\u001b[0ml\u001b[0m\u001b[0;34m]\u001b[0m\u001b[0;34m[\u001b[0m\u001b[0mc\u001b[0m\u001b[0;34m]\u001b[0m \u001b[0;34m+\u001b[0m \u001b[0mmatriz2\u001b[0m\u001b[0;34m[\u001b[0m\u001b[0ml\u001b[0m\u001b[0;34m]\u001b[0m\u001b[0;34m[\u001b[0m\u001b[0mc\u001b[0m\u001b[0;34m]\u001b[0m\u001b[0;34m\u001b[0m\u001b[0;34m\u001b[0m\u001b[0m\n\u001b[0m\u001b[1;32m     26\u001b[0m       \u001b[0mc\u001b[0m\u001b[0;34m+=\u001b[0m\u001b[0;36m1\u001b[0m\u001b[0;34m\u001b[0m\u001b[0;34m\u001b[0m\u001b[0m\n\u001b[1;32m     27\u001b[0m       \u001b[0msoma_linha_elemento\u001b[0m\u001b[0;34m.\u001b[0m\u001b[0mappend\u001b[0m\u001b[0;34m(\u001b[0m\u001b[0msoma_elemento\u001b[0m\u001b[0;34m)\u001b[0m\u001b[0;34m\u001b[0m\u001b[0;34m\u001b[0m\u001b[0m\n",
            "\u001b[0;31mIndexError\u001b[0m: list index out of range"
          ]
        }
      ]
    },
    {
      "cell_type": "code",
      "source": [
        "_# question 5\n",
        "def matriz_quadrada(matriz):\n",
        "  linha = 0\n",
        "  while linha < len(matriz):\n",
        "    if len(matriz[linha]) != len(matriz):\n",
        "      return False\n",
        "    linha += 1\n",
        "  return True\n",
        "\n",
        "def matriz5(matriz):\n",
        "  if matriz_quadrada(matriz):\n",
        "    matriz_dez = []\n",
        "    linha = 0\n",
        "    while linha < len(matriz):\n",
        "      coluna = 0\n",
        "      lista = []\n",
        "      while coluna < len(matriz[linha]):\n",
        "        if linha == coluna:\n",
        "          x_zero = matriz[linha][coluna] * 0\n",
        "          lista.append(x_zero)\n",
        "        else:\n",
        "          x_dez = matriz[linha][coluna] * 10\n",
        "          lista.append(x_dez)\n",
        "        coluna += 1\n",
        "\n",
        "      matriz_dez.append(lista)\n",
        "      linha += 1\n",
        "    return matriz_dez\n",
        "  return False\n",
        "\n",
        "matriz_teste = [\n",
        "    [1, 2, 3, 4, 5],\n",
        "    [5, 4, 3, 2, 1],\n",
        "    [10, 1, 2, 3, 4],\n",
        "    [1, 2, 3, 4, 5],\n",
        "    [5, 4, 3, 2, 1],\n",
        "]\n",
        "\n",
        "matriz5(matriz_teste)"
      ],
      "metadata": {
        "colab": {
          "base_uri": "https://localhost:8080/"
        },
        "id": "5DY9tMgh0ig6",
        "outputId": "26fa6fd1-a4d8-4734-e7fe-6c598924345a"
      },
      "execution_count": null,
      "outputs": [
        {
          "output_type": "execute_result",
          "data": {
            "text/plain": [
              "[[0, 20, 30, 40, 50],\n",
              " [50, 0, 30, 20, 10],\n",
              " [100, 10, 0, 30, 40],\n",
              " [10, 20, 30, 0, 50],\n",
              " [50, 40, 30, 20, 0]]"
            ]
          },
          "metadata": {},
          "execution_count": 60
        }
      ]
    },
    {
      "cell_type": "code",
      "source": [
        "# question 6\n",
        "def fatorial(contador):\n",
        "  num = 1\n",
        "  result = 1\n",
        "  while contador > 0:\n",
        "      result *= num\n",
        "      contador -= 1\n",
        "      num += 1\n",
        "  return result\n",
        "\n",
        "def matriz6(matriz):\n",
        "  linha = 0\n",
        "  matriz_nova = []\n",
        "  while linha < len(matriz):\n",
        "\n",
        "    coluna = 0\n",
        "    lista = []\n",
        "    while coluna < len(matriz[linha]):\n",
        "      if coluna == 0:\n",
        "        x_dez = matriz[linha][coluna] * 10\n",
        "        lista.append(x_dez)\n",
        "      elif coluna == 1:\n",
        "        x_fatorial = fatorial(matriz[linha][coluna])\n",
        "        lista.append(x_fatorial)\n",
        "      else:\n",
        "        x_modulo = abs(matriz[linha][coluna])\n",
        "        lista.append(x_modulo)\n",
        "      coluna += 1\n",
        "    matriz_nova.append(lista)\n",
        "    linha += 1\n",
        "  return matriz_nova\n",
        "\n",
        "matriz_teste = [\n",
        "    [1, 5, -3],\n",
        "    [5, 4, 3],\n",
        "    [10, 1, 4],\n",
        "]\n",
        "matriz6(matriz_teste)"
      ],
      "metadata": {
        "id": "K95pPCjyBI7g",
        "colab": {
          "base_uri": "https://localhost:8080/"
        },
        "outputId": "149a1de5-5cb7-42ea-a2ee-a617d5602424"
      },
      "execution_count": null,
      "outputs": [
        {
          "output_type": "execute_result",
          "data": {
            "text/plain": [
              "[[10, 120, 3], [50, 24, 3], [100, 1, 4]]"
            ]
          },
          "metadata": {},
          "execution_count": 72
        }
      ]
    },
    {
      "cell_type": "code",
      "source": [
        "# question 7\n",
        "def matriz_quadrada(matriz):\n",
        "  linha = 0\n",
        "  while linha < len(matriz):\n",
        "    if len(matriz[linha]) != len(matriz):\n",
        "      return False\n",
        "    linha += 1\n",
        "  return True\n",
        "\n",
        "def matriz_maior_menor(matriz):\n",
        "    # Verifique se a matriz de entrada não está vazia\n",
        "    if not matriz:\n",
        "        return []\n",
        "\n",
        "    # Inicialize a matriz de saída com duas linhas vazias\n",
        "    maior_elemento_linha = []\n",
        "    menor_elemento_coluna = []\n",
        "\n",
        "    # Inicialize as variáveis para rastrear o maior elemento de cada linha\n",
        "    # e o menor elemento de cada coluna\n",
        "    num_linhas = len(matriz)\n",
        "    num_colunas = len(matriz[0])\n",
        "    i = 0  # Índice da linha\n",
        "    j = 0  # Índice da coluna\n",
        "\n",
        "    # Encontre o maior elemento de cada linha\n",
        "    while i < num_linhas:\n",
        "        maior = matriz[i][0]\n",
        "        j = 1\n",
        "        while j < num_colunas:\n",
        "            if matriz[i][j] > maior:\n",
        "                maior = matriz[i][j]\n",
        "            j += 1\n",
        "        maior_elemento_linha.append(maior)\n",
        "        i += 1\n",
        "\n",
        "    # Inicialize as variáveis para rastrear o menor elemento de cada coluna\n",
        "    i = 0  # Índice da linha\n",
        "    j = 0  # Índice da coluna\n",
        "\n",
        "    # Encontre o menor elemento de cada coluna\n",
        "    while j < num_colunas:\n",
        "        menor = matriz[0][j]\n",
        "        i = 1\n",
        "        while i < num_linhas:\n",
        "            if matriz[i][j] < menor:\n",
        "                menor = matriz[i][j]\n",
        "            i += 1\n",
        "        menor_elemento_coluna.append(menor)\n",
        "        j += 1\n",
        "\n",
        "    # Retorne a matriz resultante com duas linhas\n",
        "    return [maior_elemento_linha, menor_elemento_coluna]\n",
        "\n",
        "# Exemplo de uso:\n",
        "matriz_entrada = [\n",
        "    [3, 6, 2],\n",
        "    [8, 1, 7],\n",
        "    [4, 5, 9]\n",
        "]\n",
        "\n",
        "matriz_resultante = matriz_maior_menor(matriz_entrada)\n",
        "for linha in matriz_resultante:\n",
        "    print(linha)\n",
        "\n",
        "\n",
        "\n",
        "\n",
        "\n",
        "matriz_teste = [\n",
        "    [1, 2, 3],\n",
        "    [3, 2, 1],\n",
        "    [2, 3, 1]\n",
        "]\n",
        "\n",
        "matriz_dois_por_dois(matriz_teste)"
      ],
      "metadata": {
        "id": "y3spp28svcsB"
      },
      "execution_count": null,
      "outputs": []
    },
    {
      "cell_type": "code",
      "source": [
        "# question 8"
      ],
      "metadata": {
        "id": "rG7Fn0SJvc4E"
      },
      "execution_count": null,
      "outputs": []
    }
  ]
}