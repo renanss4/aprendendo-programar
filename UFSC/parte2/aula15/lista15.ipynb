{
  "nbformat": 4,
  "nbformat_minor": 0,
  "metadata": {
    "colab": {
      "provenance": []
    },
    "kernelspec": {
      "name": "python3",
      "display_name": "Python 3"
    },
    "language_info": {
      "name": "python"
    }
  },
  "cells": [
    {
      "cell_type": "code",
      "source": [
        "# example\n",
        "\n",
        "class Pessoa:\n",
        "\n",
        "  def __init__(self, nome, cpf):\n",
        "    self.nome = nome\n",
        "    self.__cpf = cpf\n",
        "\n",
        "  def comerMaca(self, corMaca='vermelha'):\n",
        "    return f'{self.nome} de cpf {self.__cpf}, está comendo uma maçã de cor {corMaca}.'\n",
        "\n",
        "pessoa1 = Pessoa('Joao', '12')\n",
        "print(pessoa1.comerMaca('azul'))\n",
        "\n",
        "pessoa2 = Pessoa('Maria', '10')\n",
        "print(pessoa2.comerMaca())"
      ],
      "metadata": {
        "colab": {
          "base_uri": "https://localhost:8080/"
        },
        "id": "v_ylLVrICmUR",
        "outputId": "88f84c92-d762-4fef-c1d0-14023c433862"
      },
      "execution_count": null,
      "outputs": [
        {
          "output_type": "stream",
          "name": "stdout",
          "text": [
            "Joao de cpf 12, está comendo uma maçã de cor azul.\n",
            "Maria de cpf 10, está comendo uma maçã de cor vermelha.\n"
          ]
        }
      ]
    },
    {
      "cell_type": "code",
      "execution_count": null,
      "metadata": {
        "colab": {
          "base_uri": "https://localhost:8080/"
        },
        "id": "1XvuRf9CqeZI",
        "outputId": "a1f8ee63-4d25-43e3-9316-b7fa32a0a0d0"
      },
      "outputs": [
        {
          "output_type": "stream",
          "name": "stdout",
          "text": [
            "0 45 False 4321 45\n",
            "250 False 300 1234 300\n"
          ]
        }
      ],
      "source": [
        "# question 1\n",
        "class ContaBancaria:\n",
        "\n",
        "  def __init__(self, agencia, senha, saldo=0):\n",
        "    self.__agencia = agencia\n",
        "    self.__senha = senha\n",
        "    self.__saldo = saldo\n",
        "\n",
        "  def verificarSaldo(self):\n",
        "    return self.__saldo\n",
        "\n",
        "  def realizarSaque(self, retirar_valor):\n",
        "    if self.__saldo > 0 and retirar_valor < self.__saldo:\n",
        "      self.__saldo = self.__saldo - retirar_valor\n",
        "      return self.__saldo\n",
        "    else:\n",
        "      return False\n",
        "\n",
        "  def realizarDeposito(self, adicionar_valor):\n",
        "    self.__saldo = self.__saldo + adicionar_valor\n",
        "    return self.__saldo\n",
        "\n",
        "  def trocarSenha(self, nova_senha):\n",
        "    self.__senha = nova_senha\n",
        "    return self.__senha\n",
        "\n",
        "joao = ContaBancaria(1232, 12345)\n",
        "maria = ContaBancaria(1232, 54321, 250)\n",
        "\n",
        "print(\n",
        "    joao.verificarSaldo(),\n",
        "    joao.realizarDeposito(45),\n",
        "    joao.realizarSaque(55),\n",
        "    joao.trocarSenha(4321),\n",
        "    joao.verificarSaldo(),\n",
        ")\n",
        "\n",
        "print(\n",
        "    maria.verificarSaldo(),\n",
        "    maria.realizarSaque(300),\n",
        "    maria.realizarDeposito(50),\n",
        "    maria.trocarSenha(1234),\n",
        "    maria.verificarSaldo(),\n",
        "\n",
        ")\n"
      ]
    },
    {
      "cell_type": "markdown",
      "source": [
        "# Esta é a classe do Carro\n",
        "\n",
        "exemplo **1**"
      ],
      "metadata": {
        "id": "nm0UNEvHGL56"
      }
    },
    {
      "cell_type": "code",
      "source": [
        "# question 2\n",
        "\n",
        "class Carro:\n",
        "  def __init__(self, capacidadeLitros, quantidadeAtual, consumoMedio):\n",
        "    self.__capacidadeLitros = capacidadeLitros\n",
        "    self.__quantidadeAtual = quantidadeAtual\n",
        "    self.__consumoMedio = consumoMedio\n",
        "\n",
        "  def abastercerTanque(self, gasolina):\n",
        "    if self.__verificarCapacidadeLitros() >= self.__verificarQuantidadeAtual() and gasolina <= self.__verificarCapacidadeLitros() and gasolina >= self.__verificarQuantidadeAtual():\n",
        "      return True\n",
        "    return False\n",
        "\n",
        "  def informarGasolina(self, quantidadeAtual):\n",
        "    return self.__quantidadeAtual\n",
        "\n",
        "  def consumirGasolina(self, distanciaPercorrida=1):\n",
        "    pass # regra de três\n",
        "\n",
        "  def estarNaReserva():\n",
        "\n",
        "\n",
        "\n"
      ],
      "metadata": {
        "id": "A_ZTEFQeGSZU",
        "colab": {
          "base_uri": "https://localhost:8080/",
          "height": 140
        },
        "outputId": "12cab6be-287e-41bb-9c58-d12b22a004c0"
      },
      "execution_count": null,
      "outputs": [
        {
          "output_type": "error",
          "ename": "SyntaxError",
          "evalue": "ignored",
          "traceback": [
            "\u001b[0;36m  File \u001b[0;32m\"<ipython-input-18-7ddc00d9d8fb>\"\u001b[0;36m, line \u001b[0;32m9\u001b[0m\n\u001b[0;31m    def abastercerTanque(self, gasolina)\u001b[0m\n\u001b[0m                                        ^\u001b[0m\n\u001b[0;31mSyntaxError\u001b[0m\u001b[0;31m:\u001b[0m expected ':'\n"
          ]
        }
      ]
    }
  ]
}