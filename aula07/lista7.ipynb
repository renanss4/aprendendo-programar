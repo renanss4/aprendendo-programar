{
  "nbformat": 4,
  "nbformat_minor": 0,
  "metadata": {
    "colab": {
      "provenance": []
    },
    "kernelspec": {
      "name": "python3",
      "display_name": "Python 3"
    },
    "language_info": {
      "name": "python"
    }
  },
  "cells": [
    {
      "cell_type": "code",
      "execution_count": null,
      "metadata": {
        "colab": {
          "base_uri": "https://localhost:8080/"
        },
        "id": "3lzilOVDX0BO",
        "outputId": "1578ebac-83b0-4ac7-815b-c23bd789cf04"
      },
      "outputs": [
        {
          "output_type": "stream",
          "name": "stdout",
          "text": [
            "1\n",
            "2\n",
            "1  x  2  =  1\n",
            "1  x  3  =  2\n",
            "1  x  4  =  3\n",
            "1  x  5  =  4\n",
            "1  x  6  =  5\n",
            "1  x  7  =  6\n",
            "1  x  8  =  7\n",
            "1  x  9  =  8\n",
            "1  x  10  =  9\n",
            "1  x  11  =  10\n",
            "-----------\n",
            "2  x  2  =  2\n",
            "2  x  3  =  4\n",
            "2  x  4  =  6\n",
            "2  x  5  =  8\n",
            "2  x  6  =  10\n",
            "2  x  7  =  12\n",
            "2  x  8  =  14\n",
            "2  x  9  =  16\n",
            "2  x  10  =  18\n",
            "2  x  11  =  20\n",
            "-----------\n"
          ]
        }
      ],
      "source": [
        "# Question 1\n",
        "\n",
        "num1 = int(input())\n",
        "num2 = int(input())\n",
        "\n",
        "contador2 = 1\n",
        "result1 = None\n",
        "\n",
        "while contador2 <= num2:\n",
        "  contador1 = 1\n",
        "  while contador1 <= 10:\n",
        "    result1 = num1 * contador1\n",
        "    contador1 = contador1 + 1\n",
        "    print(num1, ' x ', contador1, ' = ', result1)\n",
        "\n",
        "  print('-----------')\n",
        "  num1 = num1 + 1\n",
        "  result1 = num1+contador2\n",
        "  contador2 = contador2 + 1\n"
      ]
    },
    {
      "cell_type": "code",
      "source": [
        "# Question 2\n",
        "\n",
        "# Solicita a quantidade de números a serem lidos\n",
        "qt = int(input(\"Digite a quantidade de números a serem lidos: \"))\n",
        "\n",
        "soma_fatoriais = 0\n",
        "contador = 0\n",
        "\n",
        "while contador < qt:\n",
        "    numero = int(input(\"Digite um número: \"))\n",
        "\n",
        "    # Função para calcular o fatorial de um número\n",
        "    def calcular_fatorial(n):\n",
        "        if n == 0:\n",
        "            return 1\n",
        "        else:\n",
        "            fatorial = 1\n",
        "            i = 1\n",
        "            while i <= n:\n",
        "                fatorial *= i\n",
        "                i += 1\n",
        "            return fatorial\n",
        "\n",
        "    fatorial_numero = calcular_fatorial(numero)\n",
        "    soma_fatoriais += fatorial_numero\n",
        "    contador += 1\n",
        "\n",
        "print(f\"O somatório dos fatoriais dos números lidos é: {soma_fatoriais}\")\n"
      ],
      "metadata": {
        "colab": {
          "base_uri": "https://localhost:8080/"
        },
        "id": "pKnsvZJLkusM",
        "outputId": "bc81f1c2-1ce6-4389-95bc-1f5e07e4b88f"
      },
      "execution_count": null,
      "outputs": [
        {
          "name": "stdout",
          "output_type": "stream",
          "text": [
            "2\n"
          ]
        }
      ]
    },
    {
      "cell_type": "code",
      "source": [
        "# Question 3\n",
        "\n",
        "num_entrada = int(input())\n",
        "cont1 = 0\n",
        "\n",
        "# coluna\n",
        "while num_entrada >= cont1:\n",
        "  cont = 0\n",
        "  # linha\n",
        "  while cont < cont1:\n",
        "    print('* ', end='')\n",
        "    cont = cont + 1\n",
        "\n",
        "  print()\n",
        "  cont1 += 1\n",
        "\n"
      ],
      "metadata": {
        "colab": {
          "base_uri": "https://localhost:8080/"
        },
        "id": "blTCzs5ElKja",
        "outputId": "ee65e163-e35d-48a0-a482-c9fa00aa6cfe"
      },
      "execution_count": null,
      "outputs": [
        {
          "output_type": "stream",
          "name": "stdout",
          "text": [
            "5\n",
            "\n",
            "* \n",
            "* * \n",
            "* * * \n",
            "* * * * \n",
            "* * * * * \n"
          ]
        }
      ]
    },
    {
      "cell_type": "code",
      "source": [
        "# Question 4\n",
        "\n",
        "num_entrada = int(input())\n",
        "cont_colum = 0\n",
        "\n",
        "# coluna\n",
        "while num_entrada >= cont_colum:\n",
        "  cont_line = 0\n",
        "  # linha\n",
        "  while cont_line < cont_colum:\n",
        "    print('* ', end='')\n",
        "    cont_line = cont_line + 1\n",
        "  print()\n",
        "  cont_colum = cont_colum + 1\n",
        "\n",
        "cont_colum = 0\n",
        "while cont_colum < num_entrada:\n",
        "  cont_line = cont_colum + 1\n",
        "\n",
        "  while cont_line < num_entrada:\n",
        "    print('*', end='')\n",
        "    cont_line = cont_line + 1\n",
        "\n",
        "  print()\n",
        "  cont_colum = cont_colum + 1\n"
      ],
      "metadata": {
        "colab": {
          "base_uri": "https://localhost:8080/"
        },
        "id": "2M196KflbERW",
        "outputId": "faf14dfb-b0d2-49fe-b7f3-bff3691205c7"
      },
      "execution_count": null,
      "outputs": [
        {
          "output_type": "stream",
          "name": "stdout",
          "text": [
            "5\n",
            "\n",
            "*\n",
            "**\n",
            "***\n",
            "****\n",
            "*****\n",
            "****\n",
            "***\n",
            "**\n",
            "*\n",
            "\n"
          ]
        }
      ]
    }
  ]
}